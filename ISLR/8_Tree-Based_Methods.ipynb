{
 "cells": [
  {
   "cell_type": "markdown",
   "metadata": {},
   "source": [
    "# 8章　Tree-Based Methods\n",
    "\n",
    "R 3.6.0を使用しています。"
   ]
  },
  {
   "cell_type": "code",
   "execution_count": 1,
   "metadata": {},
   "outputs": [],
   "source": [
    "# Data and Libraries\n",
    "rm( list = ls( envir = globalenv() ), envir = globalenv() )\n",
    "library(ISLR)\n",
    "library(tree)\n",
    "attach(Carseats)\n",
    "High = ifelse(Sales <= 8, \"No\", \"Yes\") # np.whereのような三項演算子\n",
    "Carseats = data.frame(Carseats, High)"
   ]
  },
  {
   "cell_type": "markdown",
   "metadata": {},
   "source": [
    "## 1. The Basics of Decision Trees\n",
    "\n",
    "### 1. Regression Trees（回帰木）\n",
    "\n",
    "regression treesの構築方法は，大まかに次の2ステップである。\n",
    "\n",
    "1. 説明変数$X_1, X_2, \\dots, X_p$を，重複がないように$J$個の領域$R_1, R_2, \\dots, R_J$に切り分ける。\n",
    "2. すべての$R_j$について，観測が$R_j$に属する場合は，$R_j$に属する訓練データの平均値を予測値として返す。\n",
    "\n",
    "$R_j$は，RSS（残差二乗和）が最小になるようにする。($R_j$の領域については図8.3参照)\n",
    "$$\n",
    "\\sum_{j=1}^J\\sum_{i\\in R_j}(y_i - \\hat{y}_{R_j})^2, \\tag{8.1}\n",
    "$$\n",
    "ここで，$\\hat{y}_{R_j}$は，$R_j$に属する訓練データの平均値（すなわち，決定木による予測値）である。\n",
    "\n",
    "具体的には，\n",
    "$$\n",
    "R_1(j, s) = \\{ X|X_j < s \\} \\ and \\ R_2(j, s) = \\{ X|X_j \\geq s \\}, \\tag{8.2}\n",
    "$$\n",
    "となるsを見つけるということ，つまり，\n",
    "$$\n",
    "\\sum_{i: x_i \\in R_1(j, s)}(y_i - \\hat{y}_{R_1})^2 + \\sum_{i: x_i \\in R_2(j, s)}(y_i - \\hat{y}_{R_2})^2, \\tag{8.3}\n",
    "$$\n",
    "を最小化させるjとsの値を見つければよい。\n",
    "\n",
    "![ Figure 8.3 ](./fig8.3.PNG \"Figure 8.3\")"
   ]
  },
  {
   "cell_type": "markdown",
   "metadata": {},
   "source": [
    "### Tree Pruning（決定木の剪定）\n",
    "\n",
    "上記の方法では結果が複雑になりすぎるので，バイアスを少し大きくする代わりに，分散が小さく，解釈しやすい小さい木にしたい。  \n",
    "そこで，Cost complexity pruningまたはweakest link pruningと呼ばれる，木の剪定アルゴリズムがある。\n",
    "$$\n",
    "\\sum_{m=1}^{|T|} \\sum_{x_i \\in R_m} (y_i - \\hat{y}_{R_m})2 + \\alpha |T| \\tag{8.4}\n",
    "$$\n",
    "ここで，$T \\subset T_0$で，$\\alpha \\geq 0$である。また，$|T|$は$T$の終端ノードの個数である。この（8.4）式をなるべく小さくすればよい。\n",
    "\n",
    "さらに，木の剪定アルゴリズムの手順は次の通りである。\n",
    "\n",
    "1. 各終端ノードの中の観測データの個数が一定数以下になるまで領域に分割する。\n",
    "2. $\\alpha$の関数として，cost complexity pruningを適用する。\n",
    "3. $\\alpha$を選ぶために，K個のcross validationを使う。$1 \\sim K$の$K$それぞれに対し，  \n",
    "    (a)ステップ1と2を，k番目のトレーニングデータ以外に適用する。  \n",
    "    (b)$\\alpha$の関数として，k番目のデータの二乗平均予測誤差を求める。  \n",
    "    $\\alpha$の平均をとり，平均誤差を最小化させる$\\alpha$を選択する。\n",
    "4. 選んだ$\\alpha$をステップ2の関数に代入し，部分木を返す。"
   ]
  },
  {
   "cell_type": "markdown",
   "metadata": {},
   "source": [
    "### 2. Classification Trees（分類木）\n",
    "\n",
    "Regression Treesでは残差二乗和（RSS）を使っていた。一方で，Classfication Treesではそれに対応する概念として，classification error rate（$E$）(ノードにおける誤り率)が存在する。\n",
    "$$\n",
    "E = 1 - \\max_k(\\hat{p}_{mk}) \\tag{8.5}\n",
    "$$\n",
    "ここで，$\\hat{p}_{mk}$は$R_m$に含まれる観測におけるクラス$k$の比率である。  \n",
    "しかし，この関数は木の成長に対して十分敏感ではないことがわかり，実際には下の2つの関数が利用される。\n",
    "\n",
    "Gini index（ジニ係数）\n",
    "$$\n",
    "G = \\sum_{k=1}^K \\hat{p}_{mk}(1 - \\hat{p}_{mk}) \\tag{8.6}\n",
    "$$\n",
    "これは，K個のクラスの総分散を示している。$\\hat{p}_{mk}$が0または1に近づくと，ジニ係数は非常に小さくなるので，ノードの不純度を示すために使用される。ジニ係数が小さければ，領域内でのクラスのばらつきが少ないということである。\n",
    "\n",
    "ジニ係数の代わりとして，交差エントロピーまたは逸脱度と呼ばれる関数がある。\n",
    "$$\n",
    "D = - \\sum_{k=1}^K \\hat{p}_{mk} log\\hat{p}_{mk} \\tag{8.7}\n",
    "$$\n",
    "$0 \\leq \\hat{p}_{mk} \\leq 1$なので，$0 \\leq \\hat{p}_{mk}$であり，m番目のノードが綺麗であれば，小さな値をとる。  \n",
    "実際に，ジニ係数と数値的によく似ている。\n",
    "\n",
    "分類木を構築する際，典型的にジニ係数か交差エントロピーが分岐の質を評価するために使用される。"
   ]
  },
  {
   "cell_type": "markdown",
   "metadata": {},
   "source": [
    "### 3. Trees Versus Linear Models\n",
    "\n",
    "線形回帰は次のような形をとる。\n",
    "$$\n",
    "f(X) = \\beta_0 + \\sum_{j=1}^p X_j \\beta_j, \\tag{8.8}\n",
    "$$\n",
    "一方，回帰木は次のような形をとる。\n",
    "$$\n",
    "f(X) = \\sum_{m=1}^M c_m \\cdot 1_{(x \\in R_m)} \\tag{8.9}\n",
    "$$\n",
    "\n",
    "データが線形なら線形回帰，そうでなければ決定木…という感じだが，目的に合わせることが大事である。"
   ]
  },
  {
   "cell_type": "markdown",
   "metadata": {},
   "source": [
    "### 4. Advantages and Disadvantages of Trees\n",
    "\n",
    "決定木の長所\n",
    " - 人への説明が非常にしやすい。実際に線形回帰よりも説明が楽！\n",
    " - 人の決定に近いと信じる人もいる\n",
    " - 可視化が簡単なので，専門家でなくても容易に解釈できる\n",
    " - 質的データをダミー変数無しで容易に扱える\n",
    " \n",
    "決定木の短所\n",
    " - 他の回帰や分類の手法に比べて，予測精度が悪い \n",
    " - データが少し変化しただけで，結果が大きく変わってしまう。\n",
    " \n",
    "しかし，バギング，ランダムフォレスト，ブースティングといった手法を用いれば精度は上がる。"
   ]
  },
  {
   "cell_type": "code",
   "execution_count": 2,
   "metadata": {},
   "outputs": [
    {
     "data": {
      "text/plain": [
       "\n",
       "Classification tree:\n",
       "tree(formula = High ~ . - Sales, data = Carseats)\n",
       "Variables actually used in tree construction:\n",
       "[1] \"ShelveLoc\"   \"Price\"       \"Income\"      \"CompPrice\"   \"Population\" \n",
       "[6] \"Advertising\" \"Age\"         \"US\"         \n",
       "Number of terminal nodes:  27 \n",
       "Residual mean deviance:  0.4575 = 170.7 / 373 \n",
       "Misclassification error rate: 0.09 = 36 / 400 "
      ]
     },
     "metadata": {},
     "output_type": "display_data"
    }
   ],
   "source": [
    "# Fitting Classification Trees\n",
    "tree.carseats = tree(High~.-Sales, Carseats)\n",
    "summary(tree.carseats)"
   ]
  },
  {
   "cell_type": "markdown",
   "metadata": {},
   "source": [
    "summary関数で表示される\"Misclassification error rate\"は，次の式から算出される。\n",
    "$$\n",
    "-2\\sum_m \\sum_k n_{mk} log \\hat{p}_{mk}\n",
    "$$\n",
    "ここで，$$はk番目のクラスに属するm番目の観測の数である。"
   ]
  },
  {
   "cell_type": "code",
   "execution_count": 3,
   "metadata": {},
   "outputs": [
    {
     "data": {
      "image/png": "[encoded data removed]",
      "text/plain": [
       "plot without title"
      ]
     },
     "metadata": {},
     "output_type": "display_data"
    }
   ],
   "source": [
    "plot(tree.carseats)\n",
    "text(tree.carseats, pretty=0) # pretty=0を付け加えるとShelveLocのBadなども表示してくれる"
   ]
  },
  {
   "cell_type": "code",
   "execution_count": 4,
   "metadata": {
    "scrolled": false
   },
   "outputs": [
    {
     "data": {
      "text/plain": [
       "node), split, n, deviance, yval, (yprob)\n",
       "      * denotes terminal node\n",
       "\n",
       "  1) root 400 541.500 No ( 0.59000 0.41000 )  \n",
       "    2) ShelveLoc: Bad,Medium 315 390.600 No ( 0.68889 0.31111 )  \n",
       "      4) Price < 92.5 46  56.530 Yes ( 0.30435 0.69565 )  \n",
       "        8) Income < 57 10  12.220 No ( 0.70000 0.30000 )  \n",
       "         16) CompPrice < 110.5 5   0.000 No ( 1.00000 0.00000 ) *\n",
       "         17) CompPrice > 110.5 5   6.730 Yes ( 0.40000 0.60000 ) *\n",
       "        9) Income > 57 36  35.470 Yes ( 0.19444 0.80556 )  \n",
       "         18) Population < 207.5 16  21.170 Yes ( 0.37500 0.62500 ) *\n",
       "         19) Population > 207.5 20   7.941 Yes ( 0.05000 0.95000 ) *\n",
       "      5) Price > 92.5 269 299.800 No ( 0.75465 0.24535 )  \n",
       "       10) Advertising < 13.5 224 213.200 No ( 0.81696 0.18304 )  \n",
       "         20) CompPrice < 124.5 96  44.890 No ( 0.93750 0.06250 )  \n",
       "           40) Price < 106.5 38  33.150 No ( 0.84211 0.15789 )  \n",
       "             80) Population < 177 12  16.300 No ( 0.58333 0.41667 )  \n",
       "              160) Income < 60.5 6   0.000 No ( 1.00000 0.00000 ) *\n",
       "              161) Income > 60.5 6   5.407 Yes ( 0.16667 0.83333 ) *\n",
       "             81) Population > 177 26   8.477 No ( 0.96154 0.03846 ) *\n",
       "           41) Price > 106.5 58   0.000 No ( 1.00000 0.00000 ) *\n",
       "         21) CompPrice > 124.5 128 150.200 No ( 0.72656 0.27344 )  \n",
       "           42) Price < 122.5 51  70.680 Yes ( 0.49020 0.50980 )  \n",
       "             84) ShelveLoc: Bad 11   6.702 No ( 0.90909 0.09091 ) *\n",
       "             85) ShelveLoc: Medium 40  52.930 Yes ( 0.37500 0.62500 )  \n",
       "              170) Price < 109.5 16   7.481 Yes ( 0.06250 0.93750 ) *\n",
       "              171) Price > 109.5 24  32.600 No ( 0.58333 0.41667 )  \n",
       "                342) Age < 49.5 13  16.050 Yes ( 0.30769 0.69231 ) *\n",
       "                343) Age > 49.5 11   6.702 No ( 0.90909 0.09091 ) *\n",
       "           43) Price > 122.5 77  55.540 No ( 0.88312 0.11688 )  \n",
       "             86) CompPrice < 147.5 58  17.400 No ( 0.96552 0.03448 ) *\n",
       "             87) CompPrice > 147.5 19  25.010 No ( 0.63158 0.36842 )  \n",
       "              174) Price < 147 12  16.300 Yes ( 0.41667 0.58333 )  \n",
       "                348) CompPrice < 152.5 7   5.742 Yes ( 0.14286 0.85714 ) *\n",
       "                349) CompPrice > 152.5 5   5.004 No ( 0.80000 0.20000 ) *\n",
       "              175) Price > 147 7   0.000 No ( 1.00000 0.00000 ) *\n",
       "       11) Advertising > 13.5 45  61.830 Yes ( 0.44444 0.55556 )  \n",
       "         22) Age < 54.5 25  25.020 Yes ( 0.20000 0.80000 )  \n",
       "           44) CompPrice < 130.5 14  18.250 Yes ( 0.35714 0.64286 )  \n",
       "             88) Income < 100 9  12.370 No ( 0.55556 0.44444 ) *\n",
       "             89) Income > 100 5   0.000 Yes ( 0.00000 1.00000 ) *\n",
       "           45) CompPrice > 130.5 11   0.000 Yes ( 0.00000 1.00000 ) *\n",
       "         23) Age > 54.5 20  22.490 No ( 0.75000 0.25000 )  \n",
       "           46) CompPrice < 122.5 10   0.000 No ( 1.00000 0.00000 ) *\n",
       "           47) CompPrice > 122.5 10  13.860 No ( 0.50000 0.50000 )  \n",
       "             94) Price < 125 5   0.000 Yes ( 0.00000 1.00000 ) *\n",
       "             95) Price > 125 5   0.000 No ( 1.00000 0.00000 ) *\n",
       "    3) ShelveLoc: Good 85  90.330 Yes ( 0.22353 0.77647 )  \n",
       "      6) Price < 135 68  49.260 Yes ( 0.11765 0.88235 )  \n",
       "       12) US: No 17  22.070 Yes ( 0.35294 0.64706 )  \n",
       "         24) Price < 109 8   0.000 Yes ( 0.00000 1.00000 ) *\n",
       "         25) Price > 109 9  11.460 No ( 0.66667 0.33333 ) *\n",
       "       13) US: Yes 51  16.880 Yes ( 0.03922 0.96078 ) *\n",
       "      7) Price > 135 17  22.070 No ( 0.64706 0.35294 )  \n",
       "       14) Income < 46 6   0.000 No ( 1.00000 0.00000 ) *\n",
       "       15) Income > 46 11  15.160 Yes ( 0.45455 0.54545 ) *"
      ]
     },
     "metadata": {},
     "output_type": "display_data"
    }
   ],
   "source": [
    "tree.carseats"
   ]
  },
  {
   "cell_type": "code",
   "execution_count": 5,
   "metadata": {},
   "outputs": [
    {
     "data": {
      "text/plain": [
       "         High.test\n",
       "tree.pred  No Yes\n",
       "      No  104  33\n",
       "      Yes  13  50"
      ]
     },
     "metadata": {},
     "output_type": "display_data"
    }
   ],
   "source": [
    "set.seed(2)\n",
    "train = sample(1:nrow(Carseats), 200) # （擬似）無作為要素\n",
    "Carseats.test = Carseats[-train, ]\n",
    "High.test = High[-train]\n",
    "tree.carseats = tree(High~.-Sales, Carseats, subset=train)\n",
    "tree.pred = predict(tree.carseats, Carseats.test, type=\"class\")\n",
    "table(tree.pred, High.test) # ここでテキストと違う値が出てくる。バージョンによる乱数種が違う？"
   ]
  },
  {
   "cell_type": "code",
   "execution_count": 6,
   "metadata": {
    "scrolled": true
   },
   "outputs": [
    {
     "data": {
      "text/html": [
       "<ol class=list-inline>\n",
       "\t<li>'size'</li>\n",
       "\t<li>'dev'</li>\n",
       "\t<li>'k'</li>\n",
       "\t<li>'method'</li>\n",
       "</ol>\n"
      ],
      "text/latex": [
       "\\begin{enumerate*}\n",
       "\\item 'size'\n",
       "\\item 'dev'\n",
       "\\item 'k'\n",
       "\\item 'method'\n",
       "\\end{enumerate*}\n"
      ],
      "text/markdown": [
       "1. 'size'\n",
       "2. 'dev'\n",
       "3. 'k'\n",
       "4. 'method'\n",
       "\n",
       "\n"
      ],
      "text/plain": [
       "[1] \"size\"   \"dev\"    \"k\"      \"method\""
      ]
     },
     "metadata": {},
     "output_type": "display_data"
    },
    {
     "data": {
      "text/plain": [
       "$size\n",
       "[1] 21 19 14  9  8  5  3  2  1\n",
       "\n",
       "$dev\n",
       "[1] 74 76 81 81 75 77 78 85 81\n",
       "\n",
       "$k\n",
       "[1] -Inf  0.0  1.0  1.4  2.0  3.0  4.0  9.0 18.0\n",
       "\n",
       "$method\n",
       "[1] \"misclass\"\n",
       "\n",
       "attr(,\"class\")\n",
       "[1] \"prune\"         \"tree.sequence\""
      ]
     },
     "metadata": {},
     "output_type": "display_data"
    }
   ],
   "source": [
    "set.seed(3)\n",
    "cv.carseats = cv.tree(tree.carseats, FUN=prune.misclass)\n",
    "names(cv.carseats)\n",
    "cv.carseats"
   ]
  },
  {
   "cell_type": "code",
   "execution_count": 7,
   "metadata": {},
   "outputs": [
    {
     "data": {
      "image/png": "[encoded data removed]",
      "text/plain": [
       "plot without title"
      ]
     },
     "metadata": {},
     "output_type": "display_data"
    }
   ],
   "source": [
    "par(mfrow=c(1, 2))\n",
    "options(repr.plot.width=8, repr.plot.height=4) # jupyter用\n",
    "plot(cv.carseats$size, cv.carseats$dev, type=\"b\")\n",
    "plot(cv.carseats$k, cv.carseats$dev, type=\"b\")"
   ]
  },
  {
   "cell_type": "code",
   "execution_count": 8,
   "metadata": {},
   "outputs": [
    {
     "data": {
      "image/png": "[encoded data removed]",
      "text/plain": [
       "plot without title"
      ]
     },
     "metadata": {},
     "output_type": "display_data"
    }
   ],
   "source": [
    "prune.carseats = prune.misclass(tree.carseats, best=9) # 終端ノードを9つに絞る\n",
    "options(repr.plot.width=10, repr.plot.height=10) # jupyter用\n",
    "plot(prune.carseats)\n",
    "text(prune.carseats, pretty=0)"
   ]
  },
  {
   "cell_type": "code",
   "execution_count": 9,
   "metadata": {},
   "outputs": [
    {
     "data": {
      "text/plain": [
       "         High.test\n",
       "tree.pred No Yes\n",
       "      No  97  25\n",
       "      Yes 20  58"
      ]
     },
     "metadata": {},
     "output_type": "display_data"
    }
   ],
   "source": [
    "tree.pred = predict(prune.carseats, Carseats.test, type=\"class\")\n",
    "table(tree.pred, High.test)"
   ]
  },
  {
   "cell_type": "code",
   "execution_count": 10,
   "metadata": {},
   "outputs": [
    {
     "data": {
      "image/png": "[encoded data removed]",
      "text/plain": [
       "plot without title"
      ]
     },
     "metadata": {},
     "output_type": "display_data"
    }
   ],
   "source": [
    "prune.carseats = prune.misclass(tree.carseats, best=15) # 終端ノードを15個に絞る\n",
    "options(repr.plot.width=10, repr.plot.height=10) # jupyter用\n",
    "plot(prune.carseats)\n",
    "text(prune.carseats, pretty=0)"
   ]
  },
  {
   "cell_type": "code",
   "execution_count": 11,
   "metadata": {},
   "outputs": [
    {
     "data": {
      "text/plain": [
       "         High.test\n",
       "tree.pred  No Yes\n",
       "      No  102  30\n",
       "      Yes  15  53"
      ]
     },
     "metadata": {},
     "output_type": "display_data"
    }
   ],
   "source": [
    "tree.pred = predict(prune.carseats, Carseats.test, type=\"class\")\n",
    "table(tree.pred, High.test)"
   ]
  },
  {
   "cell_type": "code",
   "execution_count": 12,
   "metadata": {},
   "outputs": [
    {
     "data": {
      "text/plain": [
       "\n",
       "Regression tree:\n",
       "tree(formula = medv ~ ., data = Boston, subset = train)\n",
       "Variables actually used in tree construction:\n",
       "[1] \"rm\"    \"lstat\" \"crim\"  \"age\"  \n",
       "Number of terminal nodes:  7 \n",
       "Residual mean deviance:  10.38 = 2555 / 246 \n",
       "Distribution of residuals:\n",
       "    Min.  1st Qu.   Median     Mean  3rd Qu.     Max. \n",
       "-10.1800  -1.7770  -0.1775   0.0000   1.9230  16.5800 "
      ]
     },
     "metadata": {},
     "output_type": "display_data"
    }
   ],
   "source": [
    "# Fitting Regression Trees\n",
    "library(MASS) # Boston data\n",
    "set.seed(1)\n",
    "train = sample(1:nrow(Boston), nrow(Boston)/2)\n",
    "tree.boston = tree(medv~., Boston, subset=train)\n",
    "summary(tree.boston)"
   ]
  },
  {
   "cell_type": "code",
   "execution_count": 13,
   "metadata": {},
   "outputs": [
    {
     "data": {
      "image/png": "[encoded data removed]",
      "text/plain": [
       "plot without title"
      ]
     },
     "metadata": {},
     "output_type": "display_data"
    }
   ],
   "source": [
    "# tree plot\n",
    "plot(tree.boston)\n",
    "text(tree.boston, pretty=0)"
   ]
  },
  {
   "cell_type": "code",
   "execution_count": 14,
   "metadata": {},
   "outputs": [
    {
     "data": {
      "image/png": "[encoded data removed]",
      "text/plain": [
       "plot without title"
      ]
     },
     "metadata": {},
     "output_type": "display_data"
    }
   ],
   "source": [
    "# cross varidation\n",
    "cv.boston = cv.tree(tree.boston)\n",
    "plot(cv.boston$size, cv.boston$dev, type='b')"
   ]
  },
  {
   "cell_type": "code",
   "execution_count": 15,
   "metadata": {},
   "outputs": [
    {
     "data": {
      "image/png": "[encoded data removed]",
      "text/plain": [
       "plot without title"
      ]
     },
     "metadata": {},
     "output_type": "display_data"
    }
   ],
   "source": [
    "# 剪定\n",
    "prune.boston = prune.tree(tree.boston, best=5)\n",
    "plot(prune.boston)\n",
    "text(prune.boston, pretty=0)"
   ]
  },
  {
   "cell_type": "code",
   "execution_count": 16,
   "metadata": {},
   "outputs": [
    {
     "data": {
      "text/html": [
       "35.2868818594623"
      ],
      "text/latex": [
       "35.2868818594623"
      ],
      "text/markdown": [
       "35.2868818594623"
      ],
      "text/plain": [
       "[1] 35.28688"
      ]
     },
     "metadata": {},
     "output_type": "display_data"
    },
    {
     "data": {
      "image/png": "[encoded data removed]",
      "text/plain": [
       "plot without title"
      ]
     },
     "metadata": {},
     "output_type": "display_data"
    }
   ],
   "source": [
    "# クロスバリデーションの結果を維持する場合\n",
    "yhat = predict(tree.boston, newdata=Boston[-train, ])\n",
    "boston.test = Boston[-train, \"medv\"]\n",
    "plot(yhat, boston.test)\n",
    "abline(0, 1)\n",
    "mean((yhat - boston.test)^2)"
   ]
  },
  {
   "cell_type": "markdown",
   "metadata": {},
   "source": [
    "## 2. Bagging, Random Forests, Boosting\n",
    "\n",
    "### 1. Bagging\n",
    "\n",
    "決定木は分散が大きいが，Bootstrapを応用したBaggingによって統計的な学習手法の分散を小さくする。\n",
    "\n",
    "例えば，n個の独立した観測$Z_1, \\dots, Z_n$のそれぞれの分散を$\\sigma$とする。分散の平均を$\\bar{Z}$とすると，$\\bar{Z} = \\sigma^2 / n$となる。一連の観測の平均をとることにより，分散を小さくすることができるのである。よって，母集団からたくさんの訓練データを使用して，それぞれ別々の予測モデルを構築し，予測結果の平均をとればよい。\n",
    "\n",
    "バギングは，bootstrapでたくさんのデータセットを生成する。  \n",
    "分散を小さくするために，$\\hat{f}^1(x), \\hat{f}^2(x), \\dots, \\hat{f}^b(x)$を求めて平均する。\n",
    "$$\n",
    "\\hat{f}^{avg}(x) = \\frac{1}{B}\\sum_{b=1}^{B}\\hat{f}^b(x)\n",
    "$$\n",
    "一般的に複数の訓練セットを利用する必要はないので，これでは実用的ではない。その代わり，同じ訓練セットから何度もサンプルを入手する。そのため，bootstrapで入手したデータより$\\hat{f}^{*b}(x)$を作成する。つまり，\n",
    "$$\n",
    "\\hat{f}^{bag}(x) = \\frac{1}{B}\\sum_{b=1}^{B}\\hat{f}^{*b}(x)\n",
    "$$\n",
    "これがバギングである。\n",
    "\n",
    "バギングは他の手法でも利用できるが，分散が大きくバイアスが小さい決定木の分散を小さくするので，決定木に特に有効である。また，分類問題に対しては，B個の決定木の結果で最も多かった結果を採用すればよい。"
   ]
  },
  {
   "cell_type": "markdown",
   "metadata": {},
   "source": [
    "### 2. Random Forests\n",
    "Random Forestsでは各ブートストラップサンプルに対しランダムに選択された$m$（$m \\approx \\sqrt{p}$とすることが多い）個の変数を使って決定木をサンプルの個数分作る．  \n",
    "これは使用できる主要な変数すら考慮から省く方法である。分類に重要な変数はバギングでも最初の分岐として使われる。そのため，結果的にバギングと非常に似たツリーとなる。\n",
    "\n",
    "Baggingと比べて変数の数が少ないので，結果的に，各木の分散が小さくなって良い．"
   ]
  },
  {
   "cell_type": "code",
   "execution_count": 17,
   "metadata": {},
   "outputs": [
    {
     "name": "stderr",
     "output_type": "stream",
     "text": [
      "randomForest 4.6-14\n",
      "Type rfNews() to see new features/changes/bug fixes.\n"
     ]
    },
    {
     "name": "stdout",
     "output_type": "stream",
     "text": [
      "\n",
      "Call:\n",
      " randomForest(formula = medv ~ ., data = Boston, mtry = 13, importance = TRUE,      subset = train) \n",
      "               Type of random forest: regression\n",
      "                     Number of trees: 500\n",
      "No. of variables tried at each split: 13\n",
      "\n",
      "          Mean of squared residuals: 11.39601\n",
      "                    % Var explained: 85.17\n"
     ]
    }
   ],
   "source": [
    "# Bagging and Random Forests\n",
    "library(randomForest)\n",
    "set.seed(1)\n",
    "bag.boston = randomForest(medv~., data=Boston, subset=train, mtry=13, importance=TRUE)\n",
    "print(bag.boston)"
   ]
  },
  {
   "cell_type": "code",
   "execution_count": 18,
   "metadata": {},
   "outputs": [
    {
     "data": {
      "text/html": [
       "23.5927297079061"
      ],
      "text/latex": [
       "23.5927297079061"
      ],
      "text/markdown": [
       "23.5927297079061"
      ],
      "text/plain": [
       "[1] 23.59273"
      ]
     },
     "metadata": {},
     "output_type": "display_data"
    },
    {
     "data": {
      "image/png": "[encoded data removed]",
      "text/plain": [
       "plot without title"
      ]
     },
     "metadata": {},
     "output_type": "display_data"
    }
   ],
   "source": [
    "# MSE\n",
    "yhat.bag = predict(bag.boston, newdata=Boston[-train, ])\n",
    "plot(yhat.bag, boston.test)\n",
    "abline(0, 1)\n",
    "mean((yhat.bag - boston.test)^2)"
   ]
  },
  {
   "cell_type": "code",
   "execution_count": 19,
   "metadata": {},
   "outputs": [
    {
     "data": {
      "text/html": [
       "23.6671575152042"
      ],
      "text/latex": [
       "23.6671575152042"
      ],
      "text/markdown": [
       "23.6671575152042"
      ],
      "text/plain": [
       "[1] 23.66716"
      ]
     },
     "metadata": {},
     "output_type": "display_data"
    }
   ],
   "source": [
    "# ツリーの数を指定\n",
    "bag.boston = randomForest(medv~., data=Boston, subset=train, mtry=13, ntree=25)\n",
    "yhat.bag = predict(bag.boston, newdata=Boston[-train, ])\n",
    "mean((yhat.bag - boston.test)^2)"
   ]
  },
  {
   "cell_type": "code",
   "execution_count": 20,
   "metadata": {},
   "outputs": [
    {
     "data": {
      "text/html": [
       "19.6202073910648"
      ],
      "text/latex": [
       "19.6202073910648"
      ],
      "text/markdown": [
       "19.6202073910648"
      ],
      "text/plain": [
       "[1] 19.62021"
      ]
     },
     "metadata": {},
     "output_type": "display_data"
    },
    {
     "data": {
      "text/html": [
       "<table>\n",
       "<caption>A matrix: 13 × 2 of type dbl</caption>\n",
       "<thead>\n",
       "\t<tr><th></th><th scope=col>%IncMSE</th><th scope=col>IncNodePurity</th></tr>\n",
       "</thead>\n",
       "<tbody>\n",
       "\t<tr><th scope=row>crim</th><td>16.697017</td><td>1076.08786</td></tr>\n",
       "\t<tr><th scope=row>zn</th><td> 3.625784</td><td>  88.35342</td></tr>\n",
       "\t<tr><th scope=row>indus</th><td> 4.968621</td><td> 609.53356</td></tr>\n",
       "\t<tr><th scope=row>chas</th><td> 1.061432</td><td>  52.21793</td></tr>\n",
       "\t<tr><th scope=row>nox</th><td>13.518179</td><td> 709.87339</td></tr>\n",
       "\t<tr><th scope=row>rm</th><td>32.343305</td><td>7857.65451</td></tr>\n",
       "\t<tr><th scope=row>age</th><td>13.272498</td><td> 612.21424</td></tr>\n",
       "\t<tr><th scope=row>dis</th><td> 9.032477</td><td> 714.94674</td></tr>\n",
       "\t<tr><th scope=row>rad</th><td> 2.878434</td><td>  95.80598</td></tr>\n",
       "\t<tr><th scope=row>tax</th><td> 9.118801</td><td> 364.92479</td></tr>\n",
       "\t<tr><th scope=row>ptratio</th><td> 8.467062</td><td> 823.93341</td></tr>\n",
       "\t<tr><th scope=row>black</th><td> 7.579482</td><td> 275.62272</td></tr>\n",
       "\t<tr><th scope=row>lstat</th><td>27.129817</td><td>6027.63740</td></tr>\n",
       "</tbody>\n",
       "</table>\n"
      ],
      "text/latex": [
       "A matrix: 13 × 2 of type dbl\n",
       "\\begin{tabular}{r|ll}\n",
       "  & \\%IncMSE & IncNodePurity\\\\\n",
       "\\hline\n",
       "\tcrim & 16.697017 & 1076.08786\\\\\n",
       "\tzn &  3.625784 &   88.35342\\\\\n",
       "\tindus &  4.968621 &  609.53356\\\\\n",
       "\tchas &  1.061432 &   52.21793\\\\\n",
       "\tnox & 13.518179 &  709.87339\\\\\n",
       "\trm & 32.343305 & 7857.65451\\\\\n",
       "\tage & 13.272498 &  612.21424\\\\\n",
       "\tdis &  9.032477 &  714.94674\\\\\n",
       "\trad &  2.878434 &   95.80598\\\\\n",
       "\ttax &  9.118801 &  364.92479\\\\\n",
       "\tptratio &  8.467062 &  823.93341\\\\\n",
       "\tblack &  7.579482 &  275.62272\\\\\n",
       "\tlstat & 27.129817 & 6027.63740\\\\\n",
       "\\end{tabular}\n"
      ],
      "text/markdown": [
       "\n",
       "A matrix: 13 × 2 of type dbl\n",
       "\n",
       "| <!--/--> | %IncMSE | IncNodePurity |\n",
       "|---|---|---|\n",
       "| crim | 16.697017 | 1076.08786 |\n",
       "| zn |  3.625784 |   88.35342 |\n",
       "| indus |  4.968621 |  609.53356 |\n",
       "| chas |  1.061432 |   52.21793 |\n",
       "| nox | 13.518179 |  709.87339 |\n",
       "| rm | 32.343305 | 7857.65451 |\n",
       "| age | 13.272498 |  612.21424 |\n",
       "| dis |  9.032477 |  714.94674 |\n",
       "| rad |  2.878434 |   95.80598 |\n",
       "| tax |  9.118801 |  364.92479 |\n",
       "| ptratio |  8.467062 |  823.93341 |\n",
       "| black |  7.579482 |  275.62272 |\n",
       "| lstat | 27.129817 | 6027.63740 |\n",
       "\n"
      ],
      "text/plain": [
       "        %IncMSE   IncNodePurity\n",
       "crim    16.697017 1076.08786   \n",
       "zn       3.625784   88.35342   \n",
       "indus    4.968621  609.53356   \n",
       "chas     1.061432   52.21793   \n",
       "nox     13.518179  709.87339   \n",
       "rm      32.343305 7857.65451   \n",
       "age     13.272498  612.21424   \n",
       "dis      9.032477  714.94674   \n",
       "rad      2.878434   95.80598   \n",
       "tax      9.118801  364.92479   \n",
       "ptratio  8.467062  823.93341   \n",
       "black    7.579482  275.62272   \n",
       "lstat   27.129817 6027.63740   "
      ]
     },
     "metadata": {},
     "output_type": "display_data"
    }
   ],
   "source": [
    "# 変数を√p個に変える\n",
    "set.seed(1)\n",
    "rf.boston = randomForest(medv~., data=Boston, subset=train, mtry=6, importance=TRUE)\n",
    "yhat.rf = predict(rf.boston, newdata=Boston[-train, ])\n",
    "mean((yhat.rf - boston.test)^2)\n",
    "importance(rf.boston)"
   ]
  },
  {
   "cell_type": "code",
   "execution_count": 21,
   "metadata": {},
   "outputs": [
    {
     "data": {
      "image/png": "[encoded data removed]",
      "text/plain": [
       "plot without title"
      ]
     },
     "metadata": {},
     "output_type": "display_data"
    }
   ],
   "source": [
    "# 重要度の可視化\n",
    "varImpPlot(rf.boston)"
   ]
  },
  {
   "cell_type": "markdown",
   "metadata": {},
   "source": [
    "### 3. Boosting\n",
    "BaggingやRandom Forestsのようなもの。  \n",
    "これらは並列計算できるが，Boostingはその前のモデルに依存して新しいモデルが作られるので並列計算不可。また，Boostingは他の手法にも適用可能。\n",
    "\n",
    "パラメタとしては縮小パラメータλ（よく使われるのは0.01もしくは0.001），サンプル数B（λが大きければBも大きい必要があるが，過学習しやすくなる），各木の分割数dの3種類．最適なBはクロス・バリデーションで決める。\n",
    "\n",
    "回帰木に対するブースティングは以下の手順である。\n",
    "1. Set $\\hat{f}(x) = 0$ and $r_i=y_i$ for all i in the training set.\n",
    "2. For b = 1, 2, ..., B, repeat:  \n",
    "    (a)Fit a tree $\\hat{f}^b$ with $d$ splits ($d + 1$ terminal nodes) to the training data $(X, r)$.   \n",
    "    (b)Update $\\hat{f}$ by adding in a shrunken version of the new tree:  \n",
    "$$\n",
    "\\hat{f}(x) \\leftarrow \\hat{f}(x) + \\lambda \\hat{f}^b(x). \\tag{8.10}\n",
    "$$  \n",
    "    (c)Update the residuals,  \n",
    "$$\n",
    "r_i \\leftarrow r_i - \\lambda \\hat{f}^b(x_i). \\tag{8.11}\n",
    "$$\n",
    "3. Output the boosted model,\n",
    "    $\\hat{f}(x) = \\sum_{b=1}^B \\lambda \\hat{f}^b(x). \\tag{8.12}$"
   ]
  },
  {
   "cell_type": "code",
   "execution_count": 22,
   "metadata": {},
   "outputs": [
    {
     "name": "stderr",
     "output_type": "stream",
     "text": [
      "Loaded gbm 2.1.5\n"
     ]
    },
    {
     "data": {
      "text/html": [
       "<table>\n",
       "<caption>A data.frame: 13 × 2</caption>\n",
       "<thead>\n",
       "\t<tr><th></th><th scope=col>var</th><th scope=col>rel.inf</th></tr>\n",
       "\t<tr><th></th><th scope=col>&lt;fct&gt;</th><th scope=col>&lt;dbl&gt;</th></tr>\n",
       "</thead>\n",
       "<tbody>\n",
       "\t<tr><th scope=row>rm</th><td>rm     </td><td>43.9919329</td></tr>\n",
       "\t<tr><th scope=row>lstat</th><td>lstat  </td><td>33.1216941</td></tr>\n",
       "\t<tr><th scope=row>crim</th><td>crim   </td><td> 4.2604167</td></tr>\n",
       "\t<tr><th scope=row>dis</th><td>dis    </td><td> 4.0111090</td></tr>\n",
       "\t<tr><th scope=row>nox</th><td>nox    </td><td> 3.4353017</td></tr>\n",
       "\t<tr><th scope=row>black</th><td>black  </td><td> 2.8267554</td></tr>\n",
       "\t<tr><th scope=row>age</th><td>age    </td><td> 2.6113938</td></tr>\n",
       "\t<tr><th scope=row>ptratio</th><td>ptratio</td><td> 2.5403035</td></tr>\n",
       "\t<tr><th scope=row>tax</th><td>tax    </td><td> 1.4565654</td></tr>\n",
       "\t<tr><th scope=row>indus</th><td>indus  </td><td> 0.8008740</td></tr>\n",
       "\t<tr><th scope=row>rad</th><td>rad    </td><td> 0.6546400</td></tr>\n",
       "\t<tr><th scope=row>zn</th><td>zn     </td><td> 0.1446149</td></tr>\n",
       "\t<tr><th scope=row>chas</th><td>chas   </td><td> 0.1443986</td></tr>\n",
       "</tbody>\n",
       "</table>\n"
      ],
      "text/latex": [
       "A data.frame: 13 × 2\n",
       "\\begin{tabular}{r|ll}\n",
       "  & var & rel.inf\\\\\n",
       "  & <fct> & <dbl>\\\\\n",
       "\\hline\n",
       "\trm & rm      & 43.9919329\\\\\n",
       "\tlstat & lstat   & 33.1216941\\\\\n",
       "\tcrim & crim    &  4.2604167\\\\\n",
       "\tdis & dis     &  4.0111090\\\\\n",
       "\tnox & nox     &  3.4353017\\\\\n",
       "\tblack & black   &  2.8267554\\\\\n",
       "\tage & age     &  2.6113938\\\\\n",
       "\tptratio & ptratio &  2.5403035\\\\\n",
       "\ttax & tax     &  1.4565654\\\\\n",
       "\tindus & indus   &  0.8008740\\\\\n",
       "\trad & rad     &  0.6546400\\\\\n",
       "\tzn & zn      &  0.1446149\\\\\n",
       "\tchas & chas    &  0.1443986\\\\\n",
       "\\end{tabular}\n"
      ],
      "text/markdown": [
       "\n",
       "A data.frame: 13 × 2\n",
       "\n",
       "| <!--/--> | var &lt;fct&gt; | rel.inf &lt;dbl&gt; |\n",
       "|---|---|---|\n",
       "| rm | rm      | 43.9919329 |\n",
       "| lstat | lstat   | 33.1216941 |\n",
       "| crim | crim    |  4.2604167 |\n",
       "| dis | dis     |  4.0111090 |\n",
       "| nox | nox     |  3.4353017 |\n",
       "| black | black   |  2.8267554 |\n",
       "| age | age     |  2.6113938 |\n",
       "| ptratio | ptratio |  2.5403035 |\n",
       "| tax | tax     |  1.4565654 |\n",
       "| indus | indus   |  0.8008740 |\n",
       "| rad | rad     |  0.6546400 |\n",
       "| zn | zn      |  0.1446149 |\n",
       "| chas | chas    |  0.1443986 |\n",
       "\n"
      ],
      "text/plain": [
       "        var     rel.inf   \n",
       "rm      rm      43.9919329\n",
       "lstat   lstat   33.1216941\n",
       "crim    crim     4.2604167\n",
       "dis     dis      4.0111090\n",
       "nox     nox      3.4353017\n",
       "black   black    2.8267554\n",
       "age     age      2.6113938\n",
       "ptratio ptratio  2.5403035\n",
       "tax     tax      1.4565654\n",
       "indus   indus    0.8008740\n",
       "rad     rad      0.6546400\n",
       "zn      zn       0.1446149\n",
       "chas    chas     0.1443986"
      ]
     },
     "metadata": {},
     "output_type": "display_data"
    },
    {
     "data": {
      "image/png": "[encoded data removed]",
      "text/plain": [
       "plot without title"
      ]
     },
     "metadata": {},
     "output_type": "display_data"
    }
   ],
   "source": [
    "# Boosting\n",
    "library(gbm)\n",
    "set.seed(1)\n",
    "boost.boston = gbm(medv~., data=Boston[train, ], distribution=\"gaussian\", n.trees=5000, interaction.depth=4)\n",
    "summary(boost.boston)"
   ]
  },
  {
   "cell_type": "code",
   "execution_count": 23,
   "metadata": {},
   "outputs": [
    {
     "data": {
      "image/png": "[encoded data removed]",
      "text/plain": [
       "plot without title"
      ]
     },
     "metadata": {},
     "output_type": "display_data"
    },
    {
     "data": {
      "image/png": "[encoded data removed]",
      "text/plain": [
       "plot without title"
      ]
     },
     "metadata": {},
     "output_type": "display_data"
    }
   ],
   "source": [
    "# plot\n",
    "par(mfrow=c(1,2))\n",
    "options(repr.plot.width=4, repr.plot.height=4) # jupyter用\n",
    "plot(boost.boston, i='rm')\n",
    "plot(boost.boston, i='lstat')"
   ]
  },
  {
   "cell_type": "code",
   "execution_count": 24,
   "metadata": {},
   "outputs": [
    {
     "data": {
      "text/html": [
       "18.8470923079959"
      ],
      "text/latex": [
       "18.8470923079959"
      ],
      "text/markdown": [
       "18.8470923079959"
      ],
      "text/plain": [
       "[1] 18.84709"
      ]
     },
     "metadata": {},
     "output_type": "display_data"
    }
   ],
   "source": [
    "# デフォルトでは縮小パラメータ0.001\n",
    "yhat.boost = predict(boost.boston, newdata=Boston[-train, ], n.trees=5000)\n",
    "mean((yhat.boost - boston.test)^2)"
   ]
  },
  {
   "cell_type": "code",
   "execution_count": 25,
   "metadata": {},
   "outputs": [
    {
     "data": {
      "text/html": [
       "18.3345451839923"
      ],
      "text/latex": [
       "18.3345451839923"
      ],
      "text/markdown": [
       "18.3345451839923"
      ],
      "text/plain": [
       "[1] 18.33455"
      ]
     },
     "metadata": {},
     "output_type": "display_data"
    }
   ],
   "source": [
    "# 縮小パラメータを0.2にする\n",
    "boost.boston = gbm(medv~., data=Boston[train, ], distribution=\"gaussian\", n.trees=5000, interaction.depth=4, shrinkage=0.2, verbose=F)\n",
    "yhat.boost = predict(boost.boston, newdata=Boston[-train, ], n.trees=5000)\n",
    "mean((yhat.boost - boston.test)^2)"
   ]
  },
  {
   "cell_type": "markdown",
   "metadata": {},
   "source": [
    "## 4. Exercises\n",
    "\n",
    "1. 2次元領域と決定木の関連を図示すればいいと思われる。\n",
    "   ![ fig8E_1 ](./fig8E_1.jpg)\n",
    "\n",
    "2. Algorithm 8.2（回帰木に対するブースティング）の手順より，\n",
    "$$\n",
    "\\hat{f}(x) = 0, r_i = y_i \\\\\n",
    "\\hat{f}^1(x) = {\\beta_1}_1 I(X_1 < t_1) + {\\beta_0}_1 \\\\\n",
    "\\hat{f}(x) = \\hat{f}(x) + \\lambda \\hat{f}^1(x) \\\\\n",
    "r_i = y_i - \\lambda \\hat{f}^1(x_i)\n",
    "$$\n",
    "   以上を繰り返すことより，\n",
    "$$\n",
    "\\hat{f}^j(x) = {\\beta_1}_j I(X_j < t_j) + {\\beta_0}_j \\\\\n",
    "\\hat{f}(x) = \\hat{f}(x) + \\lambda \\hat{f}^1(x) + \\cdots + \\lambda \\hat{f}^p(x)\n",
    "$$\n",
    "   よって，\n",
    "$$\n",
    "f(X) = \\sum_{j=1}^p f_j(X_j)\n",
    "$$\n",
    "   の形になる。したがって，式（8.12）から始めることができるようになる。\n",
    "\n",
    "3. x軸に$\\hat{p}_{m1}$，y軸にジニ係数，分類誤差，エントロピーを描画する。クラス数は2までなので，次のように関数を作成すれば描画できる。"
   ]
  },
  {
   "cell_type": "code",
   "execution_count": 26,
   "metadata": {},
   "outputs": [
    {
     "data": {
      "image/png": "[encoded data removed]",
      "text/plain": [
       "plot without title"
      ]
     },
     "metadata": {},
     "output_type": "display_data"
    }
   ],
   "source": [
    "# Exercises 3\n",
    "p_m1 = seq(0.01, 0.99, length=99)\n",
    "p_m2 = 1 - p_m1 # ヒントより\n",
    "Gini_index = p_m1 * (1 - p_m1) + p_m2 * (1 - p_m2) # 式（8.5）\n",
    "classification_error = 1 - apply(rbind(p_m1, p_m2), 2, max) # 式（8.6）\n",
    "entropy = - p_m1 * log(p_m1) - p_m2 * log(p_m2) # 式（8.7）\n",
    "\n",
    "# plot\n",
    "options(repr.plot.width=5, repr.plot.height=5) # jupyter用\n",
    "plot(p_m1, Gini_index, type='l', col=rgb(1, 0, 0), ylab=\"\", ylim=c(0, 1))\n",
    "par(new=T)\n",
    "plot(p_m1, classification_error, type='l', col=rgb(0, 1, 0), ylab=\"\", ylim=c(0, 1))\n",
    "par(new=T)\n",
    "plot(p_m1, entropy, type='l', col=rgb(0, 0, 1), ylab=\"\", ylim=c(0, 1))\n",
    "\n",
    "# 凡例を表示\n",
    "legend(\"topright\", legend = c(\"G\", \"E\", \"D\"), col = c(rgb(1, 0, 0), rgb(0, 1, 0), rgb(0, 0, 1)), lty = c(1, 1, 1))"
   ]
  },
  {
   "cell_type": "markdown",
   "metadata": {},
   "source": [
    "4. こういうことだと思われる。\n",
    "\n",
    "|(a)|(b)|\n",
    "|---|---|\n",
    "|![ fig8E_4a ](./fig8E_4a.jpg)|![ fig8E_4b ](./fig8E_4b.jpg)|\n",
    "\n",
    "5. 今回何度も行ってきたcut-off関数が今回の主要な方法で，平均をとっての分類が第二の方法である。"
   ]
  },
  {
   "cell_type": "code",
   "execution_count": 27,
   "metadata": {},
   "outputs": [
    {
     "name": "stdout",
     "output_type": "stream",
     "text": [
      "\n",
      "FALSE  TRUE \n",
      "    4     6 \n",
      "[1] \"average\" \"0.45\"   \n",
      "\n",
      "FALSE  TRUE \n",
      "    4     6 \n"
     ]
    }
   ],
   "source": [
    "# cut-off（今回の基準は0.5）\n",
    "data = c(0.1, 0.15, 0.2, 0.2, 0.55, 0.6, 0.6, 0.65, 0.7, 0.75)\n",
    "print(table(data > 0.5))\n",
    "\n",
    "# average\n",
    "threshold = mean(data)\n",
    "print(c(\"average\", threshold))\n",
    "print(table(data > threshold))"
   ]
  },
  {
   "cell_type": "markdown",
   "metadata": {},
   "source": [
    "6. 回帰木のアルゴリズムについて\n",
    "\n",
    "\n",
    "1. 説明変数$X_1, X_2, \\dots, X_p$を，重複がないように切り分ける。このとき，$RSS (= \\sum_{j=1}^J\\sum_{i\\in R_j}(y_i - \\hat{y}_{R_j})^2)$が最も小さくなる数値を基準とする。ここで，$\\hat{y}_{R_j}$は$R_j$に属する説明変数の平均値であり，決定木の予測値となる。\n",
    "2. 各終端ノードの中の観測データの個数が一定数以下になるまで領域を分割する。"
   ]
  },
  {
   "cell_type": "code",
   "execution_count": 28,
   "metadata": {},
   "outputs": [
    {
     "data": {
      "image/png": "[encoded data removed]",
      "text/plain": [
       "plot without title"
      ]
     },
     "metadata": {},
     "output_type": "display_data"
    }
   ],
   "source": [
    "# 7\n",
    "\n",
    "# 図8.10と似た図を作成（そもそも回帰ランダムフォレストしかできなくて困る）\n",
    "train = sample(1:nrow(Boston), nrow(Boston)/2) # 訓練データ\n",
    "ntree = 500 # 予測値の個数\n",
    "m_1 = floor(length(Boston) - 1) # medv以外の変数と同じ個数\n",
    "m_2 = floor(m_1 / 2)\n",
    "m_3 = floor(sqrt(m_1))\n",
    "rf1.boston = randomForest(medv~., data=Boston, subset=train, mtry=m_1, ntree=500)\n",
    "rf2.boston = randomForest(medv~., data=Boston, subset=train, mtry=m_2, ntree=500)\n",
    "rf3.boston = randomForest(medv~., data=Boston, subset=train, mtry=m_3, ntree=500)\n",
    "\n",
    "options(repr.plot.width=5, repr.plot.height=5) # jupyter用\n",
    "plot(1:500, rf1.boston$mse, col=\"red\", type = \"l\", xlab=\"Number of Trees\", ylab = \"Test Mean Squared Error\", ylim=c(5, 35))\n",
    "lines(1:500, rf2.boston$mse, col=\"green\", type = \"l\")\n",
    "lines(1:500, rf3.boston$mse, col=\"blue\", type = \"l\")\n",
    "legend(\"topright\", c(\"m=p\", \"m=p/2\", \"m=sqrt(p)\"), col = c(\"red\", \"green\", \"blue\"), cex = 1, lty = 1)"
   ]
  },
  {
   "cell_type": "code",
   "execution_count": 29,
   "metadata": {},
   "outputs": [
    {
     "data": {
      "text/plain": [
       "\n",
       "Regression tree:\n",
       "tree(formula = Sales ~ ., data = Carseats, subset = train)\n",
       "Variables actually used in tree construction:\n",
       "[1] \"High\"        \"ShelveLoc\"   \"Price\"       \"CompPrice\"   \"Income\"     \n",
       "[6] \"Advertising\"\n",
       "Number of terminal nodes:  10 \n",
       "Residual mean deviance:  1.659 = 315.3 / 190 \n",
       "Distribution of residuals:\n",
       "   Min. 1st Qu.  Median    Mean 3rd Qu.    Max. \n",
       "-3.3940 -0.9108  0.0535  0.0000  0.9275  3.1570 "
      ]
     },
     "metadata": {},
     "output_type": "display_data"
    },
    {
     "name": "stdout",
     "output_type": "stream",
     "text": [
      "[1] \"MSE =\"            \"2.71065404265565\"\n"
     ]
    },
    {
     "data": {
      "image/png": "[encoded data removed]",
      "text/plain": [
       "plot without title"
      ]
     },
     "metadata": {},
     "output_type": "display_data"
    }
   ],
   "source": [
    "# 8\n",
    "\n",
    "# (a)\n",
    "set.seed(1001)\n",
    "train = sample(1:nrow(Carseats), nrow(Carseats)/2) # 訓練データ\n",
    "Carseats.train = Carseats[train, ]\n",
    "Carseats.test = Carseats[-train, ]\n",
    "\n",
    "# (b)\n",
    "tree.Carseats = tree(Sales~., Carseats, subset=train)\n",
    "summary(tree.Carseats)\n",
    "pred.Carseats = predict(tree.Carseats, Carseats.test)\n",
    "mse = mean((pred.Carseats - Carseats.test$Sales)^2)\n",
    "print(c(\"MSE =\", mse))\n",
    "plot(tree.Carseats)\n",
    "text(tree.Carseats, pretty=0)"
   ]
  },
  {
   "cell_type": "code",
   "execution_count": 30,
   "metadata": {},
   "outputs": [
    {
     "data": {
      "image/png": "[encoded data removed]",
      "text/plain": [
       "plot without title"
      ]
     },
     "metadata": {},
     "output_type": "display_data"
    }
   ],
   "source": [
    "# (c)\n",
    "set.seed(1001)\n",
    "cv.Carseats = cv.tree(tree.Carseats)\n",
    "plot(cv.Carseats)"
   ]
  },
  {
   "cell_type": "code",
   "execution_count": 31,
   "metadata": {},
   "outputs": [
    {
     "name": "stdout",
     "output_type": "stream",
     "text": [
      "[1] \"MSE =\"          \"2.758974598978\"\n"
     ]
    },
    {
     "data": {
      "image/png": "[encoded data removed]",
      "text/plain": [
       "plot without title"
      ]
     },
     "metadata": {},
     "output_type": "display_data"
    }
   ],
   "source": [
    "prune.Carseats = prune.tree(tree.Carseats, best=4)\n",
    "pred.Carseats = predict(prune.Carseats, Carseats.test)\n",
    "mse = mean((pred.Carseats - Carseats.test$Sales)^2)\n",
    "print(c(\"MSE =\", mse))\n",
    "plot(prune.Carseats)\n",
    "text(prune.Carseats, pretty=0)"
   ]
  },
  {
   "cell_type": "code",
   "execution_count": 32,
   "metadata": {},
   "outputs": [
    {
     "name": "stdout",
     "output_type": "stream",
     "text": [
      "[1] \"MSE =\"            \"2.14990611478582\"\n",
      "               %IncMSE IncNodePurity\n",
      "CompPrice   12.0467104     71.960464\n",
      "Income       7.6303882     59.752064\n",
      "Advertising  6.1202801     45.831485\n",
      "Population   0.1264980     50.541899\n",
      "Price       23.8659645    140.574761\n",
      "ShelveLoc   30.9662641    117.785774\n",
      "Age         -1.8932220     40.194059\n",
      "Education    2.9019985     32.995220\n",
      "Urban       -0.6922199      3.202883\n",
      "US           4.8665891      5.215959\n",
      "High        84.3897845   1008.392445\n"
     ]
    }
   ],
   "source": [
    "# (d)\n",
    "bag.Carseats = randomForest(Sales~., data=Carseats, subset=train, mtry=11, importance=TRUE) # m = pだとバギング\n",
    "pred.Carseats = predict(bag.Carseats, Carseats.test)\n",
    "mse = mean((pred.Carseats - Carseats.test$Sales)^2)\n",
    "print(c(\"MSE =\", mse))\n",
    "print(importance(bag.Carseats))\n",
    "# High Low がめっちゃ効いていることがわかる"
   ]
  },
  {
   "cell_type": "code",
   "execution_count": 33,
   "metadata": {},
   "outputs": [
    {
     "name": "stdout",
     "output_type": "stream",
     "text": [
      "[1] \"MSE =\"            \"2.09563152244111\"\n",
      "               %IncMSE IncNodePurity\n",
      "CompPrice    8.6758208      86.10078\n",
      "Income       4.9434408      86.41465\n",
      "Advertising  7.8728401      91.78073\n",
      "Population  -1.0019546      68.46907\n",
      "Price       19.2664684     222.98074\n",
      "ShelveLoc   22.3659335     231.96544\n",
      "Age          2.6165937      74.61130\n",
      "Education    0.3618179      53.84593\n",
      "Urban       -1.0802392      10.59577\n",
      "US           3.8882136      15.94816\n",
      "High        49.5562458     583.29302\n"
     ]
    }
   ],
   "source": [
    "# (e)\n",
    "rf.Carseats = randomForest(Sales~., data=Carseats, subset=train, mtry=3, importance=TRUE) # m = sqrt(p)\n",
    "pred.Carseats = predict(rf.Carseats, Carseats.test)\n",
    "mse = mean((pred.Carseats - Carseats.test$Sales)^2)\n",
    "print(c(\"MSE =\", mse))\n",
    "print(importance(rf.Carseats))"
   ]
  },
  {
   "cell_type": "code",
   "execution_count": 34,
   "metadata": {},
   "outputs": [
    {
     "data": {
      "image/png": "[encoded data removed]",
      "text/plain": [
       "plot without title"
      ]
     },
     "metadata": {},
     "output_type": "display_data"
    }
   ],
   "source": [
    "mses = c()\n",
    "for (i in 1:10){\n",
    "    rf.Carseats = randomForest(Sales~., data=Carseats, subset=train, mtry=i, importance=TRUE)\n",
    "    pred.Carseats = predict(rf.Carseats, Carseats.test)\n",
    "    mse = mean((pred.Carseats - Carseats.test$Sales)^2)\n",
    "    mses = append(mses, mse)\n",
    "}\n",
    "plot(1:10, mses, type='l', xlab='m', ylab='MSE')"
   ]
  },
  {
   "cell_type": "markdown",
   "metadata": {},
   "source": [
    "**参考文献**  \n",
    "kfumix, [ ISLR: Chapter 8 Tree-Based Methods ](http://kfumix.hatenablog.com/entry/2017/06/25/212754) (2019/6/4)"
   ]
  }
 ],
 "metadata": {
  "kernelspec": {
   "display_name": "R",
   "language": "R",
   "name": "ir"
  },
  "language_info": {
   "codemirror_mode": "r",
   "file_extension": ".r",
   "mimetype": "text/x-r-source",
   "name": "R",
   "pygments_lexer": "r",
   "version": "3.6.0"
  }
 },
 "nbformat": 4,
 "nbformat_minor": 2
}
