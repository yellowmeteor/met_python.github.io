{
 "cells": [
  {
   "cell_type": "markdown",
   "metadata": {},
   "source": [
    "# 8章　Tree-Based Methods\n",
    "\n",
    "R 3.6.0を使用しています。"
   ]
  },
  {
   "cell_type": "code",
   "execution_count": 1,
   "metadata": {},
   "outputs": [],
   "source": [
    "# Data and Libraries\n",
    "rm( list = ls( envir = globalenv() ), envir = globalenv() )\n",
    "library(ISLR)\n",
    "library(tree)\n",
    "attach(Carseats)\n",
    "High = ifelse(Sales <= 8, \"No\", \"Yes\") # np.whereのような三項演算子\n",
    "Carseats = data.frame(Carseats, High)"
   ]
  },
  {
   "cell_type": "markdown",
   "metadata": {},
   "source": [
    "## 1. The Basics of Decision Trees\n",
    "\n",
    "### 1. Regression Trees（回帰木）\n",
    "\n",
    "regression treesの構築方法は，大まかに次の2ステップである。\n",
    "\n",
    "1. 説明変数$X_1, X_2, \\dots, X_p$を，重複がないように$J$個の領域$R_1, R_2, \\dots, R_J$に切り分ける。\n",
    "2. すべての$R_j$について，観測が$R_j$に属する場合は，$R_j$に属する訓練データの平均値を予測値として返す。\n",
    "\n",
    "$R_j$は，RSS（残差二乗和）が最小になるようにする。($R_j$の領域については図8.3参照)\n",
    "$$\n",
    "\\sum_{j=1}^J\\sum_{i\\in R_j}(y_i - \\hat{y}_{R_j})^2, \\tag{8.1}\n",
    "$$\n",
    "ここで，$\\hat{y}_{R_j}$は，$R_j$に属する訓練データの平均値（すなわち，決定木による予測値）である。\n",
    "\n",
    "具体的には，\n",
    "$$\n",
    "R_1(j, s) = \\{ X|X_j < s \\} \\ and \\ R_2(j, s) = \\{ X|X_j \\geq s \\}, \\tag{8.2}\n",
    "$$\n",
    "となるsを見つけるということ，つまり，\n",
    "$$\n",
    "\\sum_{i: x_i \\in R_1(j, s)}(y_i - \\hat{y}_{R_1})^2 + \\sum_{i: x_i \\in R_2(j, s)}(y_i - \\hat{y}_{R_2})^2, \\tag{8.3}\n",
    "$$\n",
    "を最小化させるjとsの値を見つければよい。\n",
    "\n",
    "![ Figure 8.3 ](./fig8.3.png \"Figure 8.3\")"
   ]
  },
  {
   "cell_type": "markdown",
   "metadata": {},
   "source": [
    "### Tree Pruning（決定木の剪定）\n",
    "\n",
    "上記の方法では結果が複雑になりすぎるので，バイアスを少し大きくする代わりに，分散が小さく，解釈しやすい小さい木にしたい。  \n",
    "そこで，Cost complexity pruningまたはweakest link pruningと呼ばれる，木の剪定アルゴリズムがある。\n",
    "$$\n",
    "\\sum_{m=1}^{|T|} \\sum_{x_i \\in R_m} (y_i - \\hat{y}_{R_m})2 + \\alpha |T| \\ tag{8.4}\n",
    "$$\n",
    "ここで，$T \\subset T_0$で，$\\alpha \\geq 0$である。また，$|T|$は$T$の終端ノードの個数である。この（8.4）式をなるべく小さくすればよい。\n",
    "\n",
    "さらに，木の剪定アルゴリズムの手順は次の通りである。\n",
    "\n",
    "1. 各終端ノードの中の観測データの個数が一定数以下になるまで領域に分割する。\n",
    "2. $\\alpha$の関数として，cost complexity pruningを適用する。\n",
    "3. $\\alpha$を選ぶために，K-fold validationを使う。$1 \\sim K$の$K$それぞれに対し，  \n",
    "    (a)ステップ1と2を，k番目のトレーニングデータ以外に適用する。  \n",
    "    (b)$\\alpha$の関数として，k番目のデータの二乗平均予測誤差を求める。  \n",
    "    $\\alpha$の平均をとり，平均誤差を最小化させる$\\alpha$を選択する。\n",
    "4. 選んだ$\\alpha$をステップ2の関数に代入し，部分木を返す。"
   ]
  },
  {
   "cell_type": "markdown",
   "metadata": {},
   "source": [
    "### 2. Classification Trees（分類木）\n",
    "\n",
    "Regression Treesでは残差二乗和（RSS）を使っていた。一方で，Classfication Treesではそれに対応する概念として，classification error rate（$E$）(ノードにおける誤り率)が存在する。\n",
    "$$\n",
    "E = 1 - \\max_k(\\hat{p}_{mk}) \\tag{8.5}\n",
    "$$\n",
    "ここで，$\\hat{p}_{mk}$は$R_m$に含まれる観測におけるクラス$k$の比率である。  \n",
    "しかし，この関数は木の成長に対して十分敏感ではないことがわかり，実際には下の2つの関数が利用される。\n",
    "\n",
    "Gini index（ジニ係数）\n",
    "$$\n",
    "G = \\sum_{k=1}^K \\hat{p}_{mk}(1 - \\hat{p}_{mk}) \\tag{8.6}\n",
    "$$\n",
    "これは，K個のクラスの総分散を示している。$\\hat{p}_{mk}$が0または1に近づくと，ジニ係数は非常に小さくなるので，ノードの不純度を示すために使用される。ジニ係数が小さければ，領域内でのクラスのばらつきが少ないということである。\n",
    "\n",
    "ジニ係数の代わりとして，交差エントロピーまたは逸脱度と呼ばれる関数がある。\n",
    "$$\n",
    "D = - \\sum_{k=1}^K \\hat{p}_{mk} log\\hat{p}_{mk} \\tag{8.7}\n",
    "$$\n",
    "$0 \\leq \\hat{p}_{mk} \\leq 1$なので，$0 \\leq \\hat{p}_{mk}$であり，m番目のノードが綺麗であれば，小さな値をとる。  \n",
    "実際に，ジニ係数と数値的によく似ている。\n",
    "\n",
    "分類木を構築する際，典型的にジニ係数か交差エントロピーが分岐の質を評価するために使用される。"
   ]
  },
  {
   "cell_type": "markdown",
   "metadata": {},
   "source": [
    "### 3. Trees Versus Linear Models\n",
    "\n",
    "線形回帰は次のような形をとる。\n",
    "$$\n",
    "f(X) = \\beta_0 + \\sum_{j=1}^p X_j \\beta_j, \\tag{8.8}\n",
    "$$\n",
    "一方，回帰木は次のような形をとる。\n",
    "$$\n",
    "f(X) = \\sum_{m=1}^M c_m \\cdot 1_{(x \\in R_m)} \\tag{8.9}\n",
    "$$\n",
    "\n",
    "データが線形なら線形回帰，そうでなければ決定木…という感じだが，目的に合わせることが大事である。"
   ]
  },
  {
   "cell_type": "markdown",
   "metadata": {},
   "source": [
    "### 4. Advantages and Disadvantages of Trees\n",
    "\n",
    "決定木の長所\n",
    " - 人への説明が非常にしやすい。実際に線形回帰よりも説明が楽！\n",
    " - 人の決定に近いと信じる人もいる\n",
    " - 可視化が簡単なので，専門家でなくても容易に解釈できる\n",
    " - 質的データをダミー変数無しで容易に扱える\n",
    " \n",
    "決定木の短所\n",
    " - 他の回帰や分類の手法に比べて，予測精度が悪い \n",
    " - データが少し変化しただけで，結果が大きく変わってしまう。\n",
    " \n",
    "しかし，バギング，ランダムフォレスト，ブースティングといった手法を用いれば精度は上がる。"
   ]
  },
  {
   "cell_type": "code",
   "execution_count": 2,
   "metadata": {},
   "outputs": [
    {
     "data": {
      "text/plain": [
       "\n",
       "Classification tree:\n",
       "tree(formula = High ~ . - Sales, data = Carseats)\n",
       "Variables actually used in tree construction:\n",
       "[1] \"ShelveLoc\"   \"Price\"       \"Income\"      \"CompPrice\"   \"Population\" \n",
       "[6] \"Advertising\" \"Age\"         \"US\"         \n",
       "Number of terminal nodes:  27 \n",
       "Residual mean deviance:  0.4575 = 170.7 / 373 \n",
       "Misclassification error rate: 0.09 = 36 / 400 "
      ]
     },
     "metadata": {},
     "output_type": "display_data"
    }
   ],
   "source": [
    "# Fitting Classification Trees\n",
    "tree.carseats = tree(High~.-Sales, Carseats)\n",
    "summary(tree.carseats)"
   ]
  },
  {
   "cell_type": "markdown",
   "metadata": {},
   "source": [
    "summary関数で表示される\"Misclassification error rate\"は，次の式から算出される。\n",
    "$$\n",
    "-2\\sum_m \\sum_k n_{mk} log \\hat{p}_{mk}\n",
    "$$\n",
    "ここで，$$はk番目のクラスに属するm番目の観測の数である。"
   ]
  },
  {
   "cell_type": "code",
   "execution_count": 3,
   "metadata": {},
   "outputs": [
    {
     "data": {
      "image/png": "[encoded data removed]",
      "text/plain": [
       "plot without title"
      ]
     },
     "metadata": {},
     "output_type": "display_data"
    }
   ],
   "source": [
    "plot(tree.carseats)\n",
    "text(tree.carseats, pretty=0) # pretty=0を付け加えるとShelveLocのBadなども表示してくれる"
   ]
  },
  {
   "cell_type": "code",
   "execution_count": 4,
   "metadata": {
    "scrolled": false
   },
   "outputs": [
    {
     "data": {
      "text/plain": [
       "node), split, n, deviance, yval, (yprob)\n",
       "      * denotes terminal node\n",
       "\n",
       "  1) root 400 541.500 No ( 0.59000 0.41000 )  \n",
       "    2) ShelveLoc: Bad,Medium 315 390.600 No ( 0.68889 0.31111 )  \n",
       "      4) Price < 92.5 46  56.530 Yes ( 0.30435 0.69565 )  \n",
       "        8) Income < 57 10  12.220 No ( 0.70000 0.30000 )  \n",
       "         16) CompPrice < 110.5 5   0.000 No ( 1.00000 0.00000 ) *\n",
       "         17) CompPrice > 110.5 5   6.730 Yes ( 0.40000 0.60000 ) *\n",
       "        9) Income > 57 36  35.470 Yes ( 0.19444 0.80556 )  \n",
       "         18) Population < 207.5 16  21.170 Yes ( 0.37500 0.62500 ) *\n",
       "         19) Population > 207.5 20   7.941 Yes ( 0.05000 0.95000 ) *\n",
       "      5) Price > 92.5 269 299.800 No ( 0.75465 0.24535 )  \n",
       "       10) Advertising < 13.5 224 213.200 No ( 0.81696 0.18304 )  \n",
       "         20) CompPrice < 124.5 96  44.890 No ( 0.93750 0.06250 )  \n",
       "           40) Price < 106.5 38  33.150 No ( 0.84211 0.15789 )  \n",
       "             80) Population < 177 12  16.300 No ( 0.58333 0.41667 )  \n",
       "              160) Income < 60.5 6   0.000 No ( 1.00000 0.00000 ) *\n",
       "              161) Income > 60.5 6   5.407 Yes ( 0.16667 0.83333 ) *\n",
       "             81) Population > 177 26   8.477 No ( 0.96154 0.03846 ) *\n",
       "           41) Price > 106.5 58   0.000 No ( 1.00000 0.00000 ) *\n",
       "         21) CompPrice > 124.5 128 150.200 No ( 0.72656 0.27344 )  \n",
       "           42) Price < 122.5 51  70.680 Yes ( 0.49020 0.50980 )  \n",
       "             84) ShelveLoc: Bad 11   6.702 No ( 0.90909 0.09091 ) *\n",
       "             85) ShelveLoc: Medium 40  52.930 Yes ( 0.37500 0.62500 )  \n",
       "              170) Price < 109.5 16   7.481 Yes ( 0.06250 0.93750 ) *\n",
       "              171) Price > 109.5 24  32.600 No ( 0.58333 0.41667 )  \n",
       "                342) Age < 49.5 13  16.050 Yes ( 0.30769 0.69231 ) *\n",
       "                343) Age > 49.5 11   6.702 No ( 0.90909 0.09091 ) *\n",
       "           43) Price > 122.5 77  55.540 No ( 0.88312 0.11688 )  \n",
       "             86) CompPrice < 147.5 58  17.400 No ( 0.96552 0.03448 ) *\n",
       "             87) CompPrice > 147.5 19  25.010 No ( 0.63158 0.36842 )  \n",
       "              174) Price < 147 12  16.300 Yes ( 0.41667 0.58333 )  \n",
       "                348) CompPrice < 152.5 7   5.742 Yes ( 0.14286 0.85714 ) *\n",
       "                349) CompPrice > 152.5 5   5.004 No ( 0.80000 0.20000 ) *\n",
       "              175) Price > 147 7   0.000 No ( 1.00000 0.00000 ) *\n",
       "       11) Advertising > 13.5 45  61.830 Yes ( 0.44444 0.55556 )  \n",
       "         22) Age < 54.5 25  25.020 Yes ( 0.20000 0.80000 )  \n",
       "           44) CompPrice < 130.5 14  18.250 Yes ( 0.35714 0.64286 )  \n",
       "             88) Income < 100 9  12.370 No ( 0.55556 0.44444 ) *\n",
       "             89) Income > 100 5   0.000 Yes ( 0.00000 1.00000 ) *\n",
       "           45) CompPrice > 130.5 11   0.000 Yes ( 0.00000 1.00000 ) *\n",
       "         23) Age > 54.5 20  22.490 No ( 0.75000 0.25000 )  \n",
       "           46) CompPrice < 122.5 10   0.000 No ( 1.00000 0.00000 ) *\n",
       "           47) CompPrice > 122.5 10  13.860 No ( 0.50000 0.50000 )  \n",
       "             94) Price < 125 5   0.000 Yes ( 0.00000 1.00000 ) *\n",
       "             95) Price > 125 5   0.000 No ( 1.00000 0.00000 ) *\n",
       "    3) ShelveLoc: Good 85  90.330 Yes ( 0.22353 0.77647 )  \n",
       "      6) Price < 135 68  49.260 Yes ( 0.11765 0.88235 )  \n",
       "       12) US: No 17  22.070 Yes ( 0.35294 0.64706 )  \n",
       "         24) Price < 109 8   0.000 Yes ( 0.00000 1.00000 ) *\n",
       "         25) Price > 109 9  11.460 No ( 0.66667 0.33333 ) *\n",
       "       13) US: Yes 51  16.880 Yes ( 0.03922 0.96078 ) *\n",
       "      7) Price > 135 17  22.070 No ( 0.64706 0.35294 )  \n",
       "       14) Income < 46 6   0.000 No ( 1.00000 0.00000 ) *\n",
       "       15) Income > 46 11  15.160 Yes ( 0.45455 0.54545 ) *"
      ]
     },
     "metadata": {},
     "output_type": "display_data"
    }
   ],
   "source": [
    "tree.carseats"
   ]
  },
  {
   "cell_type": "code",
   "execution_count": 5,
   "metadata": {},
   "outputs": [
    {
     "data": {
      "text/plain": [
       "         High.test\n",
       "tree.pred  No Yes\n",
       "      No  104  33\n",
       "      Yes  13  50"
      ]
     },
     "metadata": {},
     "output_type": "display_data"
    }
   ],
   "source": [
    "set.seed(2)\n",
    "train = sample(1:nrow(Carseats), 200) # （擬似）無作為要素\n",
    "Carseats.test = Carseats[-train, ]\n",
    "High.test = High[-train]\n",
    "tree.carseats = tree(High~.-Sales, Carseats, subset=train)\n",
    "tree.pred = predict(tree.carseats, Carseats.test, type=\"class\")\n",
    "table(tree.pred, High.test) # ここでテキストと違う値が出てくる。バージョンによる乱数種が違う？"
   ]
  },
  {
   "cell_type": "code",
   "execution_count": 6,
   "metadata": {
    "scrolled": true
   },
   "outputs": [
    {
     "data": {
      "text/html": [
       "<ol class=list-inline>\n",
       "\t<li>'size'</li>\n",
       "\t<li>'dev'</li>\n",
       "\t<li>'k'</li>\n",
       "\t<li>'method'</li>\n",
       "</ol>\n"
      ],
      "text/latex": [
       "\\begin{enumerate*}\n",
       "\\item 'size'\n",
       "\\item 'dev'\n",
       "\\item 'k'\n",
       "\\item 'method'\n",
       "\\end{enumerate*}\n"
      ],
      "text/markdown": [
       "1. 'size'\n",
       "2. 'dev'\n",
       "3. 'k'\n",
       "4. 'method'\n",
       "\n",
       "\n"
      ],
      "text/plain": [
       "[1] \"size\"   \"dev\"    \"k\"      \"method\""
      ]
     },
     "metadata": {},
     "output_type": "display_data"
    },
    {
     "data": {
      "text/plain": [
       "$size\n",
       "[1] 21 19 14  9  8  5  3  2  1\n",
       "\n",
       "$dev\n",
       "[1] 74 76 81 81 75 77 78 85 81\n",
       "\n",
       "$k\n",
       "[1] -Inf  0.0  1.0  1.4  2.0  3.0  4.0  9.0 18.0\n",
       "\n",
       "$method\n",
       "[1] \"misclass\"\n",
       "\n",
       "attr(,\"class\")\n",
       "[1] \"prune\"         \"tree.sequence\""
      ]
     },
     "metadata": {},
     "output_type": "display_data"
    }
   ],
   "source": [
    "set.seed(3)\n",
    "cv.carseats = cv.tree(tree.carseats, FUN=prune.misclass)\n",
    "names(cv.carseats)\n",
    "cv.carseats"
   ]
  },
  {
   "cell_type": "code",
   "execution_count": 7,
   "metadata": {},
   "outputs": [
    {
     "data": {
      "image/png": "[encoded data removed]",
      "text/plain": [
       "plot without title"
      ]
     },
     "metadata": {},
     "output_type": "display_data"
    }
   ],
   "source": [
    "par(mfrow=c(1, 2))\n",
    "options(repr.plot.width=8, repr.plot.height=4) # jupyter用\n",
    "plot(cv.carseats$size, cv.carseats$dev, type=\"b\")\n",
    "plot(cv.carseats$k, cv.carseats$dev, type=\"b\")"
   ]
  },
  {
   "cell_type": "code",
   "execution_count": 8,
   "metadata": {},
   "outputs": [
    {
     "data": {
      "image/png": "[encoded data removed]",
      "text/plain": [
       "plot without title"
      ]
     },
     "metadata": {},
     "output_type": "display_data"
    }
   ],
   "source": [
    "prune.carseats = prune.misclass(tree.carseats, best=9) # 終端ノードを9つに絞る\n",
    "options(repr.plot.width=10, repr.plot.height=10) # jupyter用\n",
    "plot(prune.carseats)\n",
    "text(prune.carseats, pretty=0)"
   ]
  },
  {
   "cell_type": "code",
   "execution_count": 9,
   "metadata": {},
   "outputs": [
    {
     "data": {
      "text/plain": [
       "         High.test\n",
       "tree.pred No Yes\n",
       "      No  97  25\n",
       "      Yes 20  58"
      ]
     },
     "metadata": {},
     "output_type": "display_data"
    }
   ],
   "source": [
    "tree.pred = predict(prune.carseats, Carseats.test, type=\"class\")\n",
    "table(tree.pred, High.test)"
   ]
  },
  {
   "cell_type": "code",
   "execution_count": 10,
   "metadata": {},
   "outputs": [
    {
     "data": {
      "image/png": "[encoded data removed]",
      "text/plain": [
       "plot without title"
      ]
     },
     "metadata": {},
     "output_type": "display_data"
    }
   ],
   "source": [
    "prune.carseats = prune.misclass(tree.carseats, best=15) # 終端ノードを15個に絞る\n",
    "options(repr.plot.width=10, repr.plot.height=10) # jupyter用\n",
    "plot(prune.carseats)\n",
    "text(prune.carseats, pretty=0)"
   ]
  },
  {
   "cell_type": "code",
   "execution_count": 11,
   "metadata": {},
   "outputs": [
    {
     "data": {
      "text/plain": [
       "         High.test\n",
       "tree.pred  No Yes\n",
       "      No  102  30\n",
       "      Yes  15  53"
      ]
     },
     "metadata": {},
     "output_type": "display_data"
    }
   ],
   "source": [
    "tree.pred = predict(prune.carseats, Carseats.test, type=\"class\")\n",
    "table(tree.pred, High.test)"
   ]
  },
  {
   "cell_type": "markdown",
   "metadata": {},
   "source": [
    "## 2. Bagging, Random Forests, Boosting\n",
    "\n",
    "### 1. Bagging\n",
    "\n",
    "決定木は分散が大きいが，Bootstrapを応用したBaggingによって統計的な学習手法の分散を小さくする。\n",
    "\n",
    "例えば，n個の独立した観測$Z_1, \\dots, Z_n$のそれぞれの分散を$\\sigma$とする。分散の平均を$\\bar{Z}$とすると，$\\bar{Z} = \\sigma^2 / n$となる。一連の観測の平均をとることにより，分散を小さくすることができるのである。よって，母集団からたくさんの訓練データを使用して，それぞれ別々の予測モデルを構築し，予測結果の平均をとればよい。\n",
    "\n",
    "バギングは，bootstrapでたくさんのデータセットを生成する。　　\n",
    "分散を小さくするために，$\\hat{f}^1(x), \\hat{f}^2(x), \\dots, \\hat{f}^b(x)$を求めて平均する。\n",
    "$$\n",
    "\\hat{f}^{avg}(x) = \\frac{1}{B}\\sum_{b=1}^{B}\\hat{f}^b(x)\n",
    "$$\n",
    "一般的に複数の訓練セットを利用する必要はないので，これでは実用的ではない。その代わり，同じ訓練セットから何度もサンプルを入手する。そのため，bootstrapで入手したデータより$\\hat{f}^{*b}(x)$を作成する。つまり，\n",
    "$$\n",
    "\\hat{f}^{bag}(x) = \\frac{1}{B}\\sum_{b=1}^{B}\\hat{f}^{*b}(x)\n",
    "$$\n",
    "これがバギングである。\n",
    "\n",
    "バギングは他の手法でも利用できるが，分散が大きくバイアスが小さい決定木の分散を小さくするので，決定木に特に有効である。また，分類問題に対しては，B個の決定木の結果で最も多かった結果を採用すればよい。"
   ]
  },
  {
   "cell_type": "markdown",
   "metadata": {},
   "source": [
    "**参考文献**  \n",
    "kfumix, [ ISLR: Chapter 8 Tree-Based Methods ](http://kfumix.hatenablog.com/entry/2017/06/25/212754) (2019/6/4)"
   ]
  }
 ],
 "metadata": {
  "kernelspec": {
   "display_name": "R",
   "language": "R",
   "name": "ir"
  },
  "language_info": {
   "codemirror_mode": "r",
   "file_extension": ".r",
   "mimetype": "text/x-r-source",
   "name": "R",
   "pygments_lexer": "r",
   "version": "3.6.0"
  }
 },
 "nbformat": 4,
 "nbformat_minor": 2
}
