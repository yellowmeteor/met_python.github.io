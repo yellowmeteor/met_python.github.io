{
 "cells": [
  {
   "cell_type": "markdown",
   "metadata": {},
   "source": [
    "参考文献：[ http://kfumix.hatenablog.com/entry/2017/06/17/145533 ]"
   ]
  },
  {
   "cell_type": "code",
   "execution_count": 1,
   "metadata": {},
   "outputs": [],
   "source": [
    "# Data\n",
    "rm( list = ls( envir = globalenv() ), envir = globalenv() )\n",
    "library(ISLR)\n",
    "attach(Wage)"
   ]
  },
  {
   "cell_type": "markdown",
   "metadata": {},
   "source": [
    "## 1. Polynomial regression （多項式回帰）\n",
    "\n",
    "- 通常の線形回帰\n",
    "$$\n",
    "y_i = \\beta_0 + \\beta_1 x_i + \\epsilon_i\n",
    "$$\n",
    "\n",
    "- 多項式回帰\n",
    "$$\n",
    "y_i = \\beta_0 + \\beta_1 x_i + \\beta_2 x_i^2 + \\beta_3 x_i^3 + ... + \\beta_d x_i^d + \\epsilon_i, \\tag{7.1} \\\\\n",
    "$$\n",
    "\n",
    "7.1式の係数は線形回帰の最小二乗法を用いて容易に算出することができる。  \n",
    "一般的には，$d \\geqq 5$となるd（degree:次数）は，多項式曲線が柔軟になりすぎて非常に奇妙な形になるので使用されない。\n",
    "\n",
    "推定値$\\hat{f}(x_0)$の分散$Var[\\hat{f}(x_0)$]は，例えば$\\hat{C}$を5×5の共分散行列とし，$l_0^T = (1, x_0, x_0^2, x_0^3, x_0^4)$とすると，\n",
    "$$\n",
    "Var[\\hat{f}(x_0)] = l_0^T \\hat{C} l_0\n",
    "$$\n",
    "で与えられる。"
   ]
  },
  {
   "cell_type": "code",
   "execution_count": 2,
   "metadata": {},
   "outputs": [
    {
     "data": {
      "text/html": [
       "<table>\n",
       "<caption>A matrix: 5 × 4 of type dbl</caption>\n",
       "<thead>\n",
       "\t<tr><th></th><th scope=col>Estimate</th><th scope=col>Std. Error</th><th scope=col>t value</th><th scope=col>Pr(&gt;|t|)</th></tr>\n",
       "</thead>\n",
       "<tbody>\n",
       "\t<tr><th scope=row>(Intercept)</th><td> 111.70361</td><td> 0.7287409</td><td>153.283015</td><td>0.000000e+00</td></tr>\n",
       "\t<tr><th scope=row>poly(age, 4)1</th><td> 447.06785</td><td>39.9147851</td><td> 11.200558</td><td>1.484604e-28</td></tr>\n",
       "\t<tr><th scope=row>poly(age, 4)2</th><td>-478.31581</td><td>39.9147851</td><td>-11.983424</td><td>2.355831e-32</td></tr>\n",
       "\t<tr><th scope=row>poly(age, 4)3</th><td> 125.52169</td><td>39.9147851</td><td>  3.144742</td><td>1.678622e-03</td></tr>\n",
       "\t<tr><th scope=row>poly(age, 4)4</th><td> -77.91118</td><td>39.9147851</td><td> -1.951938</td><td>5.103865e-02</td></tr>\n",
       "</tbody>\n",
       "</table>\n"
      ],
      "text/latex": [
       "A matrix: 5 × 4 of type dbl\n",
       "\\begin{tabular}{r|llll}\n",
       "  & Estimate & Std. Error & t value & Pr(>\\textbar{}t\\textbar{})\\\\\n",
       "\\hline\n",
       "\t(Intercept) &  111.70361 &  0.7287409 & 153.283015 & 0.000000e+00\\\\\n",
       "\tpoly(age, 4)1 &  447.06785 & 39.9147851 &  11.200558 & 1.484604e-28\\\\\n",
       "\tpoly(age, 4)2 & -478.31581 & 39.9147851 & -11.983424 & 2.355831e-32\\\\\n",
       "\tpoly(age, 4)3 &  125.52169 & 39.9147851 &   3.144742 & 1.678622e-03\\\\\n",
       "\tpoly(age, 4)4 &  -77.91118 & 39.9147851 &  -1.951938 & 5.103865e-02\\\\\n",
       "\\end{tabular}\n"
      ],
      "text/markdown": [
       "\n",
       "A matrix: 5 × 4 of type dbl\n",
       "\n",
       "| <!--/--> | Estimate | Std. Error | t value | Pr(&gt;|t|) |\n",
       "|---|---|---|---|---|\n",
       "| (Intercept) |  111.70361 |  0.7287409 | 153.283015 | 0.000000e+00 |\n",
       "| poly(age, 4)1 |  447.06785 | 39.9147851 |  11.200558 | 1.484604e-28 |\n",
       "| poly(age, 4)2 | -478.31581 | 39.9147851 | -11.983424 | 2.355831e-32 |\n",
       "| poly(age, 4)3 |  125.52169 | 39.9147851 |   3.144742 | 1.678622e-03 |\n",
       "| poly(age, 4)4 |  -77.91118 | 39.9147851 |  -1.951938 | 5.103865e-02 |\n",
       "\n"
      ],
      "text/plain": [
       "              Estimate   Std. Error t value    Pr(>|t|)    \n",
       "(Intercept)    111.70361  0.7287409 153.283015 0.000000e+00\n",
       "poly(age, 4)1  447.06785 39.9147851  11.200558 1.484604e-28\n",
       "poly(age, 4)2 -478.31581 39.9147851 -11.983424 2.355831e-32\n",
       "poly(age, 4)3  125.52169 39.9147851   3.144742 1.678622e-03\n",
       "poly(age, 4)4  -77.91118 39.9147851  -1.951938 5.103865e-02"
      ]
     },
     "metadata": {},
     "output_type": "display_data"
    }
   ],
   "source": [
    "fit = lm(wage~poly(age, 4), data=Wage)\n",
    "coef(summary(fit))"
   ]
  },
  {
   "cell_type": "markdown",
   "metadata": {},
   "source": [
    "線形回帰の関数を使うためにlm()を使用し，4次までの多項式を作成するためにpoly(age, 4)としている。  \n",
    "しかし，poly()関数は，raw=Tを加えれば，age, age^2, age^3, age^4を直接的に求めることができる。"
   ]
  },
  {
   "cell_type": "code",
   "execution_count": 3,
   "metadata": {},
   "outputs": [
    {
     "data": {
      "text/html": [
       "<table>\n",
       "<caption>A matrix: 5 × 4 of type dbl</caption>\n",
       "<thead>\n",
       "\t<tr><th></th><th scope=col>Estimate</th><th scope=col>Std. Error</th><th scope=col>t value</th><th scope=col>Pr(&gt;|t|)</th></tr>\n",
       "</thead>\n",
       "<tbody>\n",
       "\t<tr><th scope=row>(Intercept)</th><td>-1.841542e+02</td><td>6.004038e+01</td><td>-3.067172</td><td>0.0021802539</td></tr>\n",
       "\t<tr><th scope=row>poly(age, 4, raw = T)1</th><td> 2.124552e+01</td><td>5.886748e+00</td><td> 3.609042</td><td>0.0003123618</td></tr>\n",
       "\t<tr><th scope=row>poly(age, 4, raw = T)2</th><td>-5.638593e-01</td><td>2.061083e-01</td><td>-2.735743</td><td>0.0062606446</td></tr>\n",
       "\t<tr><th scope=row>poly(age, 4, raw = T)3</th><td> 6.810688e-03</td><td>3.065931e-03</td><td> 2.221409</td><td>0.0263977518</td></tr>\n",
       "\t<tr><th scope=row>poly(age, 4, raw = T)4</th><td>-3.203830e-05</td><td>1.641359e-05</td><td>-1.951938</td><td>0.0510386498</td></tr>\n",
       "</tbody>\n",
       "</table>\n"
      ],
      "text/latex": [
       "A matrix: 5 × 4 of type dbl\n",
       "\\begin{tabular}{r|llll}\n",
       "  & Estimate & Std. Error & t value & Pr(>\\textbar{}t\\textbar{})\\\\\n",
       "\\hline\n",
       "\t(Intercept) & -1.841542e+02 & 6.004038e+01 & -3.067172 & 0.0021802539\\\\\n",
       "\tpoly(age, 4, raw = T)1 &  2.124552e+01 & 5.886748e+00 &  3.609042 & 0.0003123618\\\\\n",
       "\tpoly(age, 4, raw = T)2 & -5.638593e-01 & 2.061083e-01 & -2.735743 & 0.0062606446\\\\\n",
       "\tpoly(age, 4, raw = T)3 &  6.810688e-03 & 3.065931e-03 &  2.221409 & 0.0263977518\\\\\n",
       "\tpoly(age, 4, raw = T)4 & -3.203830e-05 & 1.641359e-05 & -1.951938 & 0.0510386498\\\\\n",
       "\\end{tabular}\n"
      ],
      "text/markdown": [
       "\n",
       "A matrix: 5 × 4 of type dbl\n",
       "\n",
       "| <!--/--> | Estimate | Std. Error | t value | Pr(&gt;|t|) |\n",
       "|---|---|---|---|---|\n",
       "| (Intercept) | -1.841542e+02 | 6.004038e+01 | -3.067172 | 0.0021802539 |\n",
       "| poly(age, 4, raw = T)1 |  2.124552e+01 | 5.886748e+00 |  3.609042 | 0.0003123618 |\n",
       "| poly(age, 4, raw = T)2 | -5.638593e-01 | 2.061083e-01 | -2.735743 | 0.0062606446 |\n",
       "| poly(age, 4, raw = T)3 |  6.810688e-03 | 3.065931e-03 |  2.221409 | 0.0263977518 |\n",
       "| poly(age, 4, raw = T)4 | -3.203830e-05 | 1.641359e-05 | -1.951938 | 0.0510386498 |\n",
       "\n"
      ],
      "text/plain": [
       "                       Estimate      Std. Error   t value   Pr(>|t|)    \n",
       "(Intercept)            -1.841542e+02 6.004038e+01 -3.067172 0.0021802539\n",
       "poly(age, 4, raw = T)1  2.124552e+01 5.886748e+00  3.609042 0.0003123618\n",
       "poly(age, 4, raw = T)2 -5.638593e-01 2.061083e-01 -2.735743 0.0062606446\n",
       "poly(age, 4, raw = T)3  6.810688e-03 3.065931e-03  2.221409 0.0263977518\n",
       "poly(age, 4, raw = T)4 -3.203830e-05 1.641359e-05 -1.951938 0.0510386498"
      ]
     },
     "metadata": {},
     "output_type": "display_data"
    }
   ],
   "source": [
    "fit2 = lm(wage~poly(age, 4, raw=T), data=Wage)\n",
    "coef(summary(fit2))"
   ]
  },
  {
   "cell_type": "code",
   "execution_count": 4,
   "metadata": {},
   "outputs": [
    {
     "data": {
      "text/html": [
       "<dl class=dl-horizontal>\n",
       "\t<dt>(Intercept)</dt>\n",
       "\t\t<dd>-184.154179774254</dd>\n",
       "\t<dt>age</dt>\n",
       "\t\t<dd>21.2455205320979</dd>\n",
       "\t<dt>I(age^2)</dt>\n",
       "\t\t<dd>-0.563859312559257</dd>\n",
       "\t<dt>I(age^3)</dt>\n",
       "\t\t<dd>0.0068106877141656</dd>\n",
       "\t<dt>I(age^4)</dt>\n",
       "\t\t<dd>-3.20383037492188e-05</dd>\n",
       "</dl>\n"
      ],
      "text/latex": [
       "\\begin{description*}\n",
       "\\item[(Intercept)] -184.154179774254\n",
       "\\item[age] 21.2455205320979\n",
       "\\item[I(age\\textbackslash{}textasciicircum\\{\\}2)] -0.563859312559257\n",
       "\\item[I(age\\textbackslash{}textasciicircum\\{\\}3)] 0.0068106877141656\n",
       "\\item[I(age\\textbackslash{}textasciicircum\\{\\}4)] -3.20383037492188e-05\n",
       "\\end{description*}\n"
      ],
      "text/markdown": [
       "(Intercept)\n",
       ":   -184.154179774254age\n",
       ":   21.2455205320979I(age^2)\n",
       ":   -0.563859312559257I(age^3)\n",
       ":   0.0068106877141656I(age^4)\n",
       ":   -3.20383037492188e-05\n",
       "\n"
      ],
      "text/plain": [
       "  (Intercept)           age      I(age^2)      I(age^3)      I(age^4) \n",
       "-1.841542e+02  2.124552e+01 -5.638593e-01  6.810688e-03 -3.203830e-05 "
      ]
     },
     "metadata": {},
     "output_type": "display_data"
    }
   ],
   "source": [
    "# 先程と同じ多項式の係数が出てくる\n",
    "fit2a = lm(wage~age+I(age^2)+I(age^3)+I(age^4), data=Wage)\n",
    "coef(fit2a)"
   ]
  },
  {
   "cell_type": "code",
   "execution_count": 5,
   "metadata": {},
   "outputs": [
    {
     "data": {
      "text/html": [
       "<dl class=dl-horizontal>\n",
       "\t<dt>(Intercept)</dt>\n",
       "\t\t<dd>-184.154179774254</dd>\n",
       "\t<dt>cbind(age, age^2, age^3, age^4)age</dt>\n",
       "\t\t<dd>21.2455205320979</dd>\n",
       "\t<dt>cbind(age, age^2, age^3, age^4)</dt>\n",
       "\t\t<dd>-0.563859312559257</dd>\n",
       "\t<dt>cbind(age, age^2, age^3, age^4)</dt>\n",
       "\t\t<dd>0.0068106877141656</dd>\n",
       "\t<dt>cbind(age, age^2, age^3, age^4)</dt>\n",
       "\t\t<dd>-3.20383037492188e-05</dd>\n",
       "</dl>\n"
      ],
      "text/latex": [
       "\\begin{description*}\n",
       "\\item[(Intercept)] -184.154179774254\n",
       "\\item[cbind(age, age\\textbackslash{}textasciicircum\\{\\}2, age\\textbackslash{}textasciicircum\\{\\}3, age\\textbackslash{}textasciicircum\\{\\}4)age] 21.2455205320979\n",
       "\\item[cbind(age, age\\textbackslash{}textasciicircum\\{\\}2, age\\textbackslash{}textasciicircum\\{\\}3, age\\textbackslash{}textasciicircum\\{\\}4)] -0.563859312559257\n",
       "\\item[cbind(age, age\\textbackslash{}textasciicircum\\{\\}2, age\\textbackslash{}textasciicircum\\{\\}3, age\\textbackslash{}textasciicircum\\{\\}4)] 0.0068106877141656\n",
       "\\item[cbind(age, age\\textbackslash{}textasciicircum\\{\\}2, age\\textbackslash{}textasciicircum\\{\\}3, age\\textbackslash{}textasciicircum\\{\\}4)] -3.20383037492188e-05\n",
       "\\end{description*}\n"
      ],
      "text/markdown": [
       "(Intercept)\n",
       ":   -184.154179774254cbind(age, age^2, age^3, age^4)age\n",
       ":   21.2455205320979cbind(age, age^2, age^3, age^4)\n",
       ":   -0.563859312559257cbind(age, age^2, age^3, age^4)\n",
       ":   0.0068106877141656cbind(age, age^2, age^3, age^4)\n",
       ":   -3.20383037492188e-05\n",
       "\n"
      ],
      "text/plain": [
       "                       (Intercept) cbind(age, age^2, age^3, age^4)age \n",
       "                     -1.841542e+02                       2.124552e+01 \n",
       "   cbind(age, age^2, age^3, age^4)    cbind(age, age^2, age^3, age^4) \n",
       "                     -5.638593e-01                       6.810688e-03 \n",
       "   cbind(age, age^2, age^3, age^4) \n",
       "                     -3.203830e-05 "
      ]
     },
     "metadata": {},
     "output_type": "display_data"
    }
   ],
   "source": [
    "# wrapper function I()を使わない方法\n",
    "fit2b = lm(wage~cbind(age, age^2, age^3, age^4), data=Wage)\n",
    "coef(fit2b)"
   ]
  },
  {
   "cell_type": "code",
   "execution_count": 6,
   "metadata": {},
   "outputs": [
    {
     "data": {
      "text/html": [
       "<table>\n",
       "<caption>A anova: 5 × 6</caption>\n",
       "<thead>\n",
       "\t<tr><th scope=col>Res.Df</th><th scope=col>RSS</th><th scope=col>Df</th><th scope=col>Sum of Sq</th><th scope=col>F</th><th scope=col>Pr(&gt;F)</th></tr>\n",
       "\t<tr><th scope=col>&lt;dbl&gt;</th><th scope=col>&lt;dbl&gt;</th><th scope=col>&lt;dbl&gt;</th><th scope=col>&lt;dbl&gt;</th><th scope=col>&lt;dbl&gt;</th><th scope=col>&lt;dbl&gt;</th></tr>\n",
       "</thead>\n",
       "<tbody>\n",
       "\t<tr><td>2998</td><td>5022216</td><td>NA</td><td>        NA</td><td>         NA</td><td>          NA</td></tr>\n",
       "\t<tr><td>2997</td><td>4793430</td><td> 1</td><td>228786.010</td><td>143.5931074</td><td>2.367734e-32</td></tr>\n",
       "\t<tr><td>2996</td><td>4777674</td><td> 1</td><td> 15755.694</td><td>  9.8887559</td><td>1.679213e-03</td></tr>\n",
       "\t<tr><td>2995</td><td>4771604</td><td> 1</td><td>  6070.152</td><td>  3.8098134</td><td>5.104623e-02</td></tr>\n",
       "\t<tr><td>2994</td><td>4770322</td><td> 1</td><td>  1282.563</td><td>  0.8049758</td><td>3.696820e-01</td></tr>\n",
       "</tbody>\n",
       "</table>\n"
      ],
      "text/latex": [
       "A anova: 5 × 6\n",
       "\\begin{tabular}{r|llllll}\n",
       " Res.Df & RSS & Df & Sum of Sq & F & Pr(>F)\\\\\n",
       " <dbl> & <dbl> & <dbl> & <dbl> & <dbl> & <dbl>\\\\\n",
       "\\hline\n",
       "\t 2998 & 5022216 & NA &         NA &          NA &           NA\\\\\n",
       "\t 2997 & 4793430 &  1 & 228786.010 & 143.5931074 & 2.367734e-32\\\\\n",
       "\t 2996 & 4777674 &  1 &  15755.694 &   9.8887559 & 1.679213e-03\\\\\n",
       "\t 2995 & 4771604 &  1 &   6070.152 &   3.8098134 & 5.104623e-02\\\\\n",
       "\t 2994 & 4770322 &  1 &   1282.563 &   0.8049758 & 3.696820e-01\\\\\n",
       "\\end{tabular}\n"
      ],
      "text/markdown": [
       "\n",
       "A anova: 5 × 6\n",
       "\n",
       "| Res.Df &lt;dbl&gt; | RSS &lt;dbl&gt; | Df &lt;dbl&gt; | Sum of Sq &lt;dbl&gt; | F &lt;dbl&gt; | Pr(&gt;F) &lt;dbl&gt; |\n",
       "|---|---|---|---|---|---|\n",
       "| 2998 | 5022216 | NA |         NA |          NA |           NA |\n",
       "| 2997 | 4793430 |  1 | 228786.010 | 143.5931074 | 2.367734e-32 |\n",
       "| 2996 | 4777674 |  1 |  15755.694 |   9.8887559 | 1.679213e-03 |\n",
       "| 2995 | 4771604 |  1 |   6070.152 |   3.8098134 | 5.104623e-02 |\n",
       "| 2994 | 4770322 |  1 |   1282.563 |   0.8049758 | 3.696820e-01 |\n",
       "\n"
      ],
      "text/plain": [
       "  Res.Df RSS     Df Sum of Sq  F           Pr(>F)      \n",
       "1 2998   5022216 NA         NA          NA           NA\n",
       "2 2997   4793430  1 228786.010 143.5931074 2.367734e-32\n",
       "3 2996   4777674  1  15755.694   9.8887559 1.679213e-03\n",
       "4 2995   4771604  1   6070.152   3.8098134 5.104623e-02\n",
       "5 2994   4770322  1   1282.563   0.8049758 3.696820e-01"
      ]
     },
     "metadata": {},
     "output_type": "display_data"
    },
    {
     "data": {
      "text/html": [
       "<table>\n",
       "<caption>A matrix: 6 × 4 of type dbl</caption>\n",
       "<thead>\n",
       "\t<tr><th></th><th scope=col>Estimate</th><th scope=col>Std. Error</th><th scope=col>t value</th><th scope=col>Pr(&gt;|t|)</th></tr>\n",
       "</thead>\n",
       "<tbody>\n",
       "\t<tr><th scope=row>(Intercept)</th><td> 111.70361</td><td> 0.7287647</td><td>153.2780243</td><td>0.000000e+00</td></tr>\n",
       "\t<tr><th scope=row>poly(age, 5)1</th><td> 447.06785</td><td>39.9160847</td><td> 11.2001930</td><td>1.491111e-28</td></tr>\n",
       "\t<tr><th scope=row>poly(age, 5)2</th><td>-478.31581</td><td>39.9160847</td><td>-11.9830341</td><td>2.367734e-32</td></tr>\n",
       "\t<tr><th scope=row>poly(age, 5)3</th><td> 125.52169</td><td>39.9160847</td><td>  3.1446392</td><td>1.679213e-03</td></tr>\n",
       "\t<tr><th scope=row>poly(age, 5)4</th><td> -77.91118</td><td>39.9160847</td><td> -1.9518743</td><td>5.104623e-02</td></tr>\n",
       "\t<tr><th scope=row>poly(age, 5)5</th><td> -35.81289</td><td>39.9160847</td><td> -0.8972045</td><td>3.696820e-01</td></tr>\n",
       "</tbody>\n",
       "</table>\n"
      ],
      "text/latex": [
       "A matrix: 6 × 4 of type dbl\n",
       "\\begin{tabular}{r|llll}\n",
       "  & Estimate & Std. Error & t value & Pr(>\\textbar{}t\\textbar{})\\\\\n",
       "\\hline\n",
       "\t(Intercept) &  111.70361 &  0.7287647 & 153.2780243 & 0.000000e+00\\\\\n",
       "\tpoly(age, 5)1 &  447.06785 & 39.9160847 &  11.2001930 & 1.491111e-28\\\\\n",
       "\tpoly(age, 5)2 & -478.31581 & 39.9160847 & -11.9830341 & 2.367734e-32\\\\\n",
       "\tpoly(age, 5)3 &  125.52169 & 39.9160847 &   3.1446392 & 1.679213e-03\\\\\n",
       "\tpoly(age, 5)4 &  -77.91118 & 39.9160847 &  -1.9518743 & 5.104623e-02\\\\\n",
       "\tpoly(age, 5)5 &  -35.81289 & 39.9160847 &  -0.8972045 & 3.696820e-01\\\\\n",
       "\\end{tabular}\n"
      ],
      "text/markdown": [
       "\n",
       "A matrix: 6 × 4 of type dbl\n",
       "\n",
       "| <!--/--> | Estimate | Std. Error | t value | Pr(&gt;|t|) |\n",
       "|---|---|---|---|---|\n",
       "| (Intercept) |  111.70361 |  0.7287647 | 153.2780243 | 0.000000e+00 |\n",
       "| poly(age, 5)1 |  447.06785 | 39.9160847 |  11.2001930 | 1.491111e-28 |\n",
       "| poly(age, 5)2 | -478.31581 | 39.9160847 | -11.9830341 | 2.367734e-32 |\n",
       "| poly(age, 5)3 |  125.52169 | 39.9160847 |   3.1446392 | 1.679213e-03 |\n",
       "| poly(age, 5)4 |  -77.91118 | 39.9160847 |  -1.9518743 | 5.104623e-02 |\n",
       "| poly(age, 5)5 |  -35.81289 | 39.9160847 |  -0.8972045 | 3.696820e-01 |\n",
       "\n"
      ],
      "text/plain": [
       "              Estimate   Std. Error t value     Pr(>|t|)    \n",
       "(Intercept)    111.70361  0.7287647 153.2780243 0.000000e+00\n",
       "poly(age, 5)1  447.06785 39.9160847  11.2001930 1.491111e-28\n",
       "poly(age, 5)2 -478.31581 39.9160847 -11.9830341 2.367734e-32\n",
       "poly(age, 5)3  125.52169 39.9160847   3.1446392 1.679213e-03\n",
       "poly(age, 5)4  -77.91118 39.9160847  -1.9518743 5.104623e-02\n",
       "poly(age, 5)5  -35.81289 39.9160847  -0.8972045 3.696820e-01"
      ]
     },
     "metadata": {},
     "output_type": "display_data"
    }
   ],
   "source": [
    "# 5つの異なるモデルと連続するモデルの比較\n",
    "agelims = range(age)\n",
    "age.grid = seq(from=agelims[1], to=agelims[2])\n",
    "preds = predict(fit, newdata=list(age=age.grid), se=TRUE)\n",
    "se.bands = cbind(preds$fit + 2*preds$se.fit, preds$fit - 2*preds$se.fit)\n",
    "\n",
    "preds2 = predict(fit2, newdata=list(age=age.grid), se=TRUE)\n",
    "\n",
    "fit.1 = lm(wage~age, data=Wage)\n",
    "fit.2 = lm(wage~poly(age, 2), data=Wage)\n",
    "fit.3 = lm(wage~poly(age, 3), data=Wage)\n",
    "fit.4 = lm(wage~poly(age, 4), data=Wage)\n",
    "fit.5 = lm(wage~poly(age, 5), data=Wage)\n",
    "anova(fit.1, fit.2, fit.3, fit.4, fit.5)\n",
    "coef(summary(fit.5))"
   ]
  },
  {
   "cell_type": "code",
   "execution_count": 7,
   "metadata": {},
   "outputs": [
    {
     "data": {
      "image/png": "[encoded data removed]",
      "text/plain": [
       "plot without title"
      ]
     },
     "metadata": {},
     "output_type": "display_data"
    }
   ],
   "source": [
    "# Fig 7.1 Left\n",
    "plot(age, wage, xlim=agelims, cex=0.5, col=\"darkgrey\")\n",
    "lines(age.grid, preds$fit, lwd=2, col=\"red\")\n",
    "matlines(age.grid, se.bands, lwd=1, col=\"red\", lty=3)"
   ]
  },
  {
   "cell_type": "code",
   "execution_count": 8,
   "metadata": {},
   "outputs": [
    {
     "data": {
      "text/html": [
       "<table>\n",
       "<caption>A anova: 3 × 6</caption>\n",
       "<thead>\n",
       "\t<tr><th scope=col>Res.Df</th><th scope=col>RSS</th><th scope=col>Df</th><th scope=col>Sum of Sq</th><th scope=col>F</th><th scope=col>Pr(&gt;F)</th></tr>\n",
       "\t<tr><th scope=col>&lt;dbl&gt;</th><th scope=col>&lt;dbl&gt;</th><th scope=col>&lt;dbl&gt;</th><th scope=col>&lt;dbl&gt;</th><th scope=col>&lt;dbl&gt;</th><th scope=col>&lt;dbl&gt;</th></tr>\n",
       "</thead>\n",
       "<tbody>\n",
       "\t<tr><td>2994</td><td>3867992</td><td>NA</td><td>       NA</td><td>        NA</td><td>          NA</td></tr>\n",
       "\t<tr><td>2993</td><td>3725395</td><td> 1</td><td>142597.10</td><td>114.696898</td><td>2.728971e-26</td></tr>\n",
       "\t<tr><td>2992</td><td>3719809</td><td> 1</td><td>  5586.66</td><td>  4.493588</td><td>3.410431e-02</td></tr>\n",
       "</tbody>\n",
       "</table>\n"
      ],
      "text/latex": [
       "A anova: 3 × 6\n",
       "\\begin{tabular}{r|llllll}\n",
       " Res.Df & RSS & Df & Sum of Sq & F & Pr(>F)\\\\\n",
       " <dbl> & <dbl> & <dbl> & <dbl> & <dbl> & <dbl>\\\\\n",
       "\\hline\n",
       "\t 2994 & 3867992 & NA &        NA &         NA &           NA\\\\\n",
       "\t 2993 & 3725395 &  1 & 142597.10 & 114.696898 & 2.728971e-26\\\\\n",
       "\t 2992 & 3719809 &  1 &   5586.66 &   4.493588 & 3.410431e-02\\\\\n",
       "\\end{tabular}\n"
      ],
      "text/markdown": [
       "\n",
       "A anova: 3 × 6\n",
       "\n",
       "| Res.Df &lt;dbl&gt; | RSS &lt;dbl&gt; | Df &lt;dbl&gt; | Sum of Sq &lt;dbl&gt; | F &lt;dbl&gt; | Pr(&gt;F) &lt;dbl&gt; |\n",
       "|---|---|---|---|---|---|\n",
       "| 2994 | 3867992 | NA |        NA |         NA |           NA |\n",
       "| 2993 | 3725395 |  1 | 142597.10 | 114.696898 | 2.728971e-26 |\n",
       "| 2992 | 3719809 |  1 |   5586.66 |   4.493588 | 3.410431e-02 |\n",
       "\n"
      ],
      "text/plain": [
       "  Res.Df RSS     Df Sum of Sq F          Pr(>F)      \n",
       "1 2994   3867992 NA        NA         NA           NA\n",
       "2 2993   3725395  1 142597.10 114.696898 2.728971e-26\n",
       "3 2992   3719809  1   5586.66   4.493588 3.410431e-02"
      ]
     },
     "metadata": {},
     "output_type": "display_data"
    }
   ],
   "source": [
    "# anova compare\n",
    "fit.1 = lm(wage~education+age, data=Wage)\n",
    "fit.2 = lm(wage~education+poly(age, 2), data=Wage)\n",
    "fit.3 = lm(wage~education+poly(age, 3), data=Wage)\n",
    "anova(fit.1, fit.2, fit.3)"
   ]
  },
  {
   "cell_type": "code",
   "execution_count": 9,
   "metadata": {},
   "outputs": [],
   "source": [
    "# Logistic regression\n",
    "fit = glm(I(wage>250)~poly(age, 4), data=Wage, family=binomial)\n",
    "preds = predict(fit, newdata=list(age=age.grid), se=T)\n",
    "pfit = exp(preds$fit) / (1 + exp(preds$fit))\n",
    "se.bands.logit = cbind(preds$fit + 2*preds$se.fit, preds$fit - 2 * preds$se.fit)"
   ]
  },
  {
   "cell_type": "code",
   "execution_count": 10,
   "metadata": {},
   "outputs": [],
   "source": [
    "# type=\"response\" ← 確率を求めることができる\n",
    "preds = predict(fit, newdata=list(age=age.grid), type=\"response\", se=T)"
   ]
  },
  {
   "cell_type": "code",
   "execution_count": 11,
   "metadata": {},
   "outputs": [
    {
     "data": {
      "image/png": "[encoded data removed]",
      "text/plain": [
       "plot without title"
      ]
     },
     "metadata": {},
     "output_type": "display_data"
    }
   ],
   "source": [
    "# Fig 7.1 right\n",
    "se.bands = exp(se.bands.logit) / (1 + exp(se.bands.logit))\n",
    "plot(age, I(wage > 250), xlim=agelims, type=\"n\", ylim=c(0, 0.2))\n",
    "points(jitter(age), I((wage > 250 / 5)), cex=0.5, pch=\"|\", col=\"darkgrey\")\n",
    "lines(age.grid, pfit, lwd=2, col=\"blue\")\n",
    "matlines(age.grid, se.bands, lwd=1, col=\"blue\", lty=3)"
   ]
  },
  {
   "cell_type": "markdown",
   "metadata": {},
   "source": [
    "## 2. Step Functions（階段関数）\n",
    "\n",
    "Xをbinsに分割する。\n",
    "$$\n",
    "C_0(X) = I(X < c_1) \\\\\n",
    "C_1(X) = I(c_1 \\leq\tX < c_2) \\\\\n",
    "C_2(X) = I(c_2 \\leq\tX < c_3) \\\\\n",
    "\\vdots \\\\\n",
    "C_{K_1}(X) = I(c_{K_1} \\leq\tX < c_K) \\\\\n",
    "C_K(X) = I(c_K \\leq\tX) \\\\\n",
    "$$\n",
    "ここで，$I(\\cdot)$は正なら1，誤なら0を返す関数で，時々ダミー関数と呼ばれる。  \n",
    "また，K+1個の間隔の中にXが存在するとき，\n",
    "$$\n",
    "\\sum_{l=0}^K C_l(X) = 1\n",
    "$$\n",
    "が成り立つ。\n",
    "\n",
    "この階段関数を用いて，  \n",
    "$$\n",
    "y_i = \\beta_0 + \\beta_1 C_1 (x_i) + \\beta_2 C_2 (x_i) + \\cdots + \\beta_K C_K (x_i) + \\epsilon_i　\\tag{7.5}\n",
    "$$\n",
    "という形式で多項式回帰が完成する。\n",
    "\n",
    "$X < c_1$の場合，式（7.5）の係数はすべて0になり，$\\beta_0$は$X < c_1$の時のYの平均値と解釈できる。  \n",
    "一方，$c_j \\leq X < c_{j+1}$の場合，式（7.5）は$\\beta_0 + \\beta_j$となるため，$\\beta_j$は$X < c_1$と比較したときの$c_j \\leq X < c_{j+1}$の区間における平均の増分を示す。"
   ]
  },
  {
   "cell_type": "code",
   "execution_count": 12,
   "metadata": {},
   "outputs": [
    {
     "data": {
      "text/plain": [
       "\n",
       "(17.9,33.5]   (33.5,49]   (49,64.5] (64.5,80.1] \n",
       "        750        1399         779          72 "
      ]
     },
     "metadata": {},
     "output_type": "display_data"
    },
    {
     "data": {
      "text/html": [
       "<table>\n",
       "<caption>A matrix: 4 × 4 of type dbl</caption>\n",
       "<thead>\n",
       "\t<tr><th></th><th scope=col>Estimate</th><th scope=col>Std. Error</th><th scope=col>t value</th><th scope=col>Pr(&gt;|t|)</th></tr>\n",
       "</thead>\n",
       "<tbody>\n",
       "\t<tr><th scope=row>(Intercept)</th><td>94.158392</td><td>1.476069</td><td>63.789970</td><td>0.000000e+00</td></tr>\n",
       "\t<tr><th scope=row>cut(age, 4)(33.5,49]</th><td>24.053491</td><td>1.829431</td><td>13.148074</td><td>1.982315e-38</td></tr>\n",
       "\t<tr><th scope=row>cut(age, 4)(49,64.5]</th><td>23.664559</td><td>2.067958</td><td>11.443444</td><td>1.040750e-29</td></tr>\n",
       "\t<tr><th scope=row>cut(age, 4)(64.5,80.1]</th><td> 7.640592</td><td>4.987424</td><td> 1.531972</td><td>1.256350e-01</td></tr>\n",
       "</tbody>\n",
       "</table>\n"
      ],
      "text/latex": [
       "A matrix: 4 × 4 of type dbl\n",
       "\\begin{tabular}{r|llll}\n",
       "  & Estimate & Std. Error & t value & Pr(>\\textbar{}t\\textbar{})\\\\\n",
       "\\hline\n",
       "\t(Intercept) & 94.158392 & 1.476069 & 63.789970 & 0.000000e+00\\\\\n",
       "\tcut(age, 4)(33.5,49{]} & 24.053491 & 1.829431 & 13.148074 & 1.982315e-38\\\\\n",
       "\tcut(age, 4)(49,64.5{]} & 23.664559 & 2.067958 & 11.443444 & 1.040750e-29\\\\\n",
       "\tcut(age, 4)(64.5,80.1{]} &  7.640592 & 4.987424 &  1.531972 & 1.256350e-01\\\\\n",
       "\\end{tabular}\n"
      ],
      "text/markdown": [
       "\n",
       "A matrix: 4 × 4 of type dbl\n",
       "\n",
       "| <!--/--> | Estimate | Std. Error | t value | Pr(&gt;|t|) |\n",
       "|---|---|---|---|---|\n",
       "| (Intercept) | 94.158392 | 1.476069 | 63.789970 | 0.000000e+00 |\n",
       "| cut(age, 4)(33.5,49] | 24.053491 | 1.829431 | 13.148074 | 1.982315e-38 |\n",
       "| cut(age, 4)(49,64.5] | 23.664559 | 2.067958 | 11.443444 | 1.040750e-29 |\n",
       "| cut(age, 4)(64.5,80.1] |  7.640592 | 4.987424 |  1.531972 | 1.256350e-01 |\n",
       "\n"
      ],
      "text/plain": [
       "                       Estimate  Std. Error t value   Pr(>|t|)    \n",
       "(Intercept)            94.158392 1.476069   63.789970 0.000000e+00\n",
       "cut(age, 4)(33.5,49]   24.053491 1.829431   13.148074 1.982315e-38\n",
       "cut(age, 4)(49,64.5]   23.664559 2.067958   11.443444 1.040750e-29\n",
       "cut(age, 4)(64.5,80.1]  7.640592 4.987424    1.531972 1.256350e-01"
      ]
     },
     "metadata": {},
     "output_type": "display_data"
    }
   ],
   "source": [
    "# step function\n",
    "table(cut(age, 4))\n",
    "fit = lm(wage~cut(age, 4), data=Wage)\n",
    "coef(summary(fit))"
   ]
  },
  {
   "cell_type": "markdown",
   "metadata": {},
   "source": [
    "## 3. Basis Functions（基底関数）\n",
    "\n",
    "多項式回帰やpiecewise-constant regression（階段関数を用いた，区分的に定値の回帰）は基底関数の特殊なケースである。\n",
    "\n",
    "$$\n",
    "y_i = \\beta_0 + \\beta_1 b_1 (x_i) + \\beta_2 b_2 (x_i) + \\beta_3 b_3 (x_i) + ... + \\beta_K b_K (x_i) + \\epsilon_i, \\tag{7.7} \\\\\n",
    "$$\n",
    "ここで，$b_1(\\cdot)$などは関数である。例えば，多項式回帰の場合，$b_j (x_i) = x_i^j$となる。  \n",
    "基底関数にウェーブレット変換やフーリエ級数を使うこともできる。"
   ]
  },
  {
   "cell_type": "markdown",
   "metadata": {},
   "source": [
    "## 4. Regression Splines\n",
    "\n",
    "### 1. Piecewise Polynomials\n",
    "\n",
    "区間ごとに異なる多項式回帰を利用する。\n",
    "$$\n",
    "y_i = \n",
    "    \\begin{cases}\n",
    "        \\beta_{01} + \\beta_{11} x_i + \\beta_{21} x_i^2 + \\beta_{31} x_i^3 + \\epsilon_i \\quad if \\ x_i < c; \\\\\n",
    "        \\beta_{02} + \\beta_{12} x_i + \\beta_{22} x_i^2 + \\beta_{32} x_i^3 + \\epsilon_i \\quad if \\ x_i \\geq c;\n",
    "    \\end{cases}\n",
    "$$\n",
    "\n",
    "### 2. Constraints and Splines\n",
    "\n",
    "Piecewise Cubicが柔軟すぎてよくない例，区間の分かれ目で連続にしたPiecewise Cubicの例，cubic splineとlinear splineの例が示されている。\n",
    "\n",
    "### 3. The Spline Basis Regression\n",
    "\n",
    "連続した関数（1次導関数も連続）\n",
    "$$\n",
    "y_i = \\beta_0 + \\beta_1 b_1 (x_i) + \\beta_2 b_2 (x_i) + \\cdots + \\beta_{K+3} b_{K+3} (x_i) + \\epsilon_i \\tag{7.9}\n",
    "$$\n",
    "式（7.9）は最小二乗法にも使用できる。  \n",
    "\n",
    "切断べき基底関数は次のように定義される。\n",
    "\n",
    "$$\n",
    "h(x, \\xi) = (x - \\xi)_+^3 = \n",
    "    \\begin{cases}\n",
    "        (x - \\xi)^3 \\quad if \\ x > \\xi \\\\\n",
    "        0 \\quad otherwize,\n",
    "    \\end{cases} \\tag{7.10}\n",
    "$$\n",
    "ここで，$\\xi$はknot（ノット）と呼ばれる実数（ベクトル）である。\n",
    "\n",
    "3次の（B-）スプラインは，切片と，Xの1次，2次，3次の係数と，ノットの数Kと同じ数の係数が必要となるので，自由度はK+4である。\n",
    "\n",
    "### 4. Choosing the Number and Locations of the Knots（ノットの数と位置の選択）\n",
    "\n",
    "### 5. Comparison to Polynomial Regression\n",
    "\n",
    "この2つは図や例がないと説明しづらいのでスルー"
   ]
  },
  {
   "cell_type": "markdown",
   "metadata": {},
   "source": [
    "## 5. Smoothing Splines\n",
    "\n",
    "### 1. An Overview of Smoothing Splines\n",
    "\n",
    "スムースにするために，次の式を用いるのが自然である（らしい）\n",
    "$$\n",
    "\\sum_{i=1}^n (y_i - g(x_i))^2 + \\lambda \\int g^{''} (t)^2 dt \\tag{7.11}\n",
    "$$\n",
    "ここで，$\\lambda$は負ではない調整パラメータである。1項目は残差平方和（Residual sum of squares, RSS），2項目はgをスムースにする項である。\n",
    "\n",
    "### 2. Choosing the Smoothing Parameter $\\lambda$\n",
    "\n",
    "スムースしているスプライン関数では，ノットの数や位置を決める必要はないが，$\\lambda$を決定する必要がある。\n",
    "$$\n",
    "\\hat{\\bf{g}}_\\lambda = \\bf{S}_\\lambda \\bf{y} \\tag{7.12} \\\\\n",
    "$$\n",
    "$$\n",
    "df_\\lambda = \\sum_{i=1}^n \\{\\bf{S}_\\lambda\\}_{ii} \\tag{7.13}\n",
    "$$\n",
    "自由度は（7.13）式から導出する。"
   ]
  },
  {
   "cell_type": "code",
   "execution_count": 13,
   "metadata": {},
   "outputs": [],
   "source": [
    "# library\n",
    "library(splines)"
   ]
  },
  {
   "cell_type": "code",
   "execution_count": 14,
   "metadata": {},
   "outputs": [
    {
     "data": {
      "text/html": [
       "<dl class=dl-horizontal>\n",
       "\t<dt>25%</dt>\n",
       "\t\t<dd>33.75</dd>\n",
       "\t<dt>50%</dt>\n",
       "\t\t<dd>42</dd>\n",
       "\t<dt>75%</dt>\n",
       "\t\t<dd>51</dd>\n",
       "</dl>\n"
      ],
      "text/latex": [
       "\\begin{description*}\n",
       "\\item[25\\textbackslash{}\\%] 33.75\n",
       "\\item[50\\textbackslash{}\\%] 42\n",
       "\\item[75\\textbackslash{}\\%] 51\n",
       "\\end{description*}\n"
      ],
      "text/markdown": [
       "25%\n",
       ":   33.7550%\n",
       ":   4275%\n",
       ":   51\n",
       "\n"
      ],
      "text/plain": [
       "  25%   50%   75% \n",
       "33.75 42.00 51.00 "
      ]
     },
     "metadata": {},
     "output_type": "display_data"
    },
    {
     "data": {
      "image/png": "[encoded data removed]",
      "text/plain": [
       "plot without title"
      ]
     },
     "metadata": {},
     "output_type": "display_data"
    }
   ],
   "source": [
    "fit = lm(wage~bs(age, knots=c(25, 40, 60)), data=Wage)\n",
    "age.grid = seq(from=agelims[1], to=agelims[2])\n",
    "pred = predict(fit, newdata=list(age=age.grid), se=T)\n",
    "plot(age, wage, col=\"gray\")\n",
    "lines(age.grid, pred$fit, lwd=2)\n",
    "lines(age.grid, pred$fit + 2 * pred$se, lty=\"dashed\")\n",
    "lines(age.grid, pred$fit - 2 * pred$se, lty=\"dashed\")\n",
    "\n",
    "fit2 = lm(wage~ns(age, df=4), data=Wage)\n",
    "pred2 = predict(fit2, newdata=list(age=age.grid), se=T)\n",
    "lines(age.grid, pred2$fit, col=\"red\", lwd=2)\n",
    "\n",
    "attr(bs(age, df=6), \"knots\")"
   ]
  },
  {
   "cell_type": "code",
   "execution_count": 15,
   "metadata": {},
   "outputs": [
    {
     "name": "stderr",
     "output_type": "stream",
     "text": [
      "Warning message in smooth.spline(age, wage, cv = TRUE):\n",
      "\"cross-validation with non-unique 'x' values seems doubtful\""
     ]
    },
    {
     "data": {
      "image/png": "[encoded data removed]",
      "text/plain": [
       "Plot with title \"Smoothing Spline\""
      ]
     },
     "metadata": {},
     "output_type": "display_data"
    }
   ],
   "source": [
    "# Smooth spline, Fig 7.8.\n",
    "plot(age, wage, xlim=agelims, cex=0.5, col=\"darkgrey\")\n",
    "title(\"Smoothing Spline\")\n",
    "fit = smooth.spline(age, wage, df=16)\n",
    "fit2 = smooth.spline(age, wage, cv=TRUE)\n",
    "lines(fit, col=\"red\", lwd=2)\n",
    "lines(fit2, col=\"blue\", lwd=2)\n",
    "legend(\"topright\", legend=c(\"16 DF\", \"6.8 DF\"), col=c(\"red\", \"blue\"), lty=1, lwd=2, cex=0.8)"
   ]
  },
  {
   "cell_type": "markdown",
   "metadata": {},
   "source": [
    "## 6. Local Regression（局所回帰）"
   ]
  },
  {
   "cell_type": "code",
   "execution_count": 16,
   "metadata": {},
   "outputs": [
    {
     "data": {
      "image/png": "[encoded data removed]",
      "text/plain": [
       "Plot with title \"Local Regression\""
      ]
     },
     "metadata": {},
     "output_type": "display_data"
    }
   ],
   "source": [
    "# Local Regression\n",
    "plot(age, wage, xlim=agelims, cex=0.5, col=\"darkgrey\")\n",
    "title(\"Local Regression\")\n",
    "fit = loess(wage~age, span=0.2, data=Wage)\n",
    "fit2 = loess(wage~age, span=0.5, data=Wage)\n",
    "lines(age.grid, predict(fit, data.frame(age=age.grid)), col=\"red\", lwd=2)\n",
    "lines(age.grid, predict(fit2, data.frame(age=age.grid)), col=\"blue\", lwd=2)\n",
    "legend(\"topright\", legend=c(\"Span=0.2\", \"Span=0.5\"), col=c(\"red\", \"blue\"), lty=1, lwd=2, cex=0.8)"
   ]
  }
 ],
 "metadata": {
  "kernelspec": {
   "display_name": "R",
   "language": "R",
   "name": "ir"
  },
  "language_info": {
   "codemirror_mode": "r",
   "file_extension": ".r",
   "mimetype": "text/x-r-source",
   "name": "R",
   "pygments_lexer": "r",
   "version": "3.6.0"
  }
 },
 "nbformat": 4,
 "nbformat_minor": 2
}
