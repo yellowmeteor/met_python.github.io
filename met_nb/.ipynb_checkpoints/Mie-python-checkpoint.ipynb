{
 "cells": [
  {
   "cell_type": "markdown",
   "metadata": {},
   "source": [
    "Scott Prahlが提供しているライブラリ\"miepython\""
   ]
  },
  {
   "cell_type": "code",
   "execution_count": 1,
   "metadata": {},
   "outputs": [
    {
     "ename": "ImportError",
     "evalue": "cannot import name 'mie_scalar' from 'miepython' (C:\\Users\\dev\\Miniconda3\\lib\\site-packages\\miepython\\__init__.py)",
     "output_type": "error",
     "traceback": [
      "\u001b[1;31m---------------------------------------------------------------------------\u001b[0m",
      "\u001b[1;31mImportError\u001b[0m                               Traceback (most recent call last)",
      "\u001b[1;32m<ipython-input-1-682f6609d262>\u001b[0m in \u001b[0;36m<module>\u001b[1;34m\u001b[0m\n\u001b[0;32m      1\u001b[0m \u001b[0mget_ipython\u001b[0m\u001b[1;33m(\u001b[0m\u001b[1;33m)\u001b[0m\u001b[1;33m.\u001b[0m\u001b[0mrun_line_magic\u001b[0m\u001b[1;33m(\u001b[0m\u001b[1;34m'matplotlib'\u001b[0m\u001b[1;33m,\u001b[0m \u001b[1;34m'inline'\u001b[0m\u001b[1;33m)\u001b[0m\u001b[1;33m\u001b[0m\u001b[1;33m\u001b[0m\u001b[0m\n\u001b[0;32m      2\u001b[0m \u001b[1;31m# Libraries\u001b[0m\u001b[1;33m\u001b[0m\u001b[1;33m\u001b[0m\u001b[1;33m\u001b[0m\u001b[0m\n\u001b[1;32m----> 3\u001b[1;33m \u001b[1;32mfrom\u001b[0m \u001b[0mmiepython\u001b[0m \u001b[1;32mimport\u001b[0m \u001b[0mmie_scalar\u001b[0m\u001b[1;33m\u001b[0m\u001b[1;33m\u001b[0m\u001b[0m\n\u001b[0m\u001b[0;32m      4\u001b[0m \u001b[1;32mimport\u001b[0m \u001b[0mnumpy\u001b[0m \u001b[1;32mas\u001b[0m \u001b[0mnp\u001b[0m\u001b[1;33m\u001b[0m\u001b[1;33m\u001b[0m\u001b[0m\n\u001b[0;32m      5\u001b[0m \u001b[1;32mimport\u001b[0m \u001b[0mmatplotlib\u001b[0m\u001b[1;33m.\u001b[0m\u001b[0mpyplot\u001b[0m \u001b[1;32mas\u001b[0m \u001b[0mplt\u001b[0m\u001b[1;33m\u001b[0m\u001b[1;33m\u001b[0m\u001b[0m\n",
      "\u001b[1;31mImportError\u001b[0m: cannot import name 'mie_scalar' from 'miepython' (C:\\Users\\dev\\Miniconda3\\lib\\site-packages\\miepython\\__init__.py)"
     ]
    }
   ],
   "source": [
    "%matplotlib inline\n",
    "# Libraries\n",
    "from miepython import mie_scalar\n",
    "import numpy as np\n",
    "import matplotlib.pyplot as plt"
   ]
  },
  {
   "cell_type": "code",
   "execution_count": null,
   "metadata": {},
   "outputs": [],
   "source": [
    "size_parameter = 6.93-2.78j\n",
    "wave_length = 2.17e-02\n",
    "\n",
    "num = 10000\n",
    "d = np.linspace(0.01, 100, num)\n",
    "x = np.pi * d * 1.0e-03 / wave_length\n",
    "a = np.zeros(num)\n",
    "b = np.zeros(num)\n",
    "c = np.zeros(num)\n",
    "\n",
    "for i in range(num) :\n",
    "    qext, qsca, qback, g = mie_scalar(size_parameter, x[i])\n",
    "    a[i]=qext\n",
    "    b[i]=qsca\n",
    "    c[i]=qback"
   ]
  },
  {
   "cell_type": "code",
   "execution_count": null,
   "metadata": {},
   "outputs": [],
   "source": [
    "fonts = {'family' : 'Times New Roman', 'size' : 30} \n",
    "plt.rc('font', **fonts)\n",
    "plt.rcParams['mathtext.fontset'] = 'stix'\n",
    "fig = plt.figure(figsize=(10, 10))\n",
    "\n",
    "\n",
    "plt.plot(x, a, color='black', ls='solid')\n",
    "plt.plot(x, b, color='black', ls='dashdot')\n",
    "plt.plot(x, c, color='black', ls='dashed')\n",
    "plt.plot(x, a-b, color='black', dashes=(6, 1, 1, 1, 1, 1))\n",
    "\n",
    "plt.xlim([0, 10])\n",
    "plt.ylim([0, 3.9])\n",
    "\n",
    "plt.xlabel(\"$ \\mathrm {2 \\pi r/ \\lambda }$\")\n",
    "plt.ylabel('Efficiency')\n",
    "plt.legend(['Q$_t$', 'Q$_s$', 'Q$_b$', 'Q$_a$'], bbox_to_anchor=(1., 1.,), loc='upper left')\n",
    "plt.title('TRMM/PR(周波数13.8GHz) 水(10℃)', family='TakaoGothic')\n",
    "#plt.subplots_adjust(right=0.75)\n",
    "\n",
    "plt.savefig('TRMM-PR_water_x10.png')\n",
    "plt.show()\n",
    "plt.close('all')"
   ]
  },
  {
   "cell_type": "code",
   "execution_count": null,
   "metadata": {},
   "outputs": [],
   "source": [
    "diff = c - (a - b)\n",
    "diff_sign = np.where(diff >= 0, 1, 0) # 0以上なら1，負なら0\n",
    "d_sign = diff_sign[1:] - diff_sign[0:-1]\n",
    "d_1 = d[0:-1]\n",
    "sign_change = np.where((np.abs(d_sign) == 1) & (d_1 <= 10.))\n",
    "cross_point_x = d_1[sign_change]\n",
    "print(cross_point_x) # 交点のx座標の表示（小数点第3位以下切り捨て）"
   ]
  },
  {
   "cell_type": "code",
   "execution_count": null,
   "metadata": {},
   "outputs": [],
   "source": [
    "fonts = {'family' : 'Times New Roman', 'size' : 30} \n",
    "plt.rc('font', **fonts)\n",
    "plt.rcParams['mathtext.fontset'] = 'stix'\n",
    "fig = plt.figure(figsize=(10, 10))\n",
    "\n",
    "\n",
    "plt.plot(d, a, color='black', ls='solid')\n",
    "plt.plot(d, b, color='black', ls='dashdot')\n",
    "plt.plot(d, c, color='black', ls='dashed')\n",
    "plt.plot(d, a-b, color='black', dashes=(6, 1, 1, 1, 1, 1))\n",
    "\n",
    "plt.xscale('log')\n",
    "plt.xlim([1.0e-01, 1.0e01])\n",
    "plt.ylim([0, 3.9])\n",
    "\n",
    "plt.xlabel(\"Diameter (mm)\")\n",
    "plt.ylabel('Efficiency')\n",
    "plt.legend(['Q$_t$', 'Q$_s$', 'Q$_b$', 'Q$_a$'], bbox_to_anchor=(1., 1.,), loc='upper left')\n",
    "plt.title('TRMM/PR(周波数13.8GHz) 水(10℃)', family='TakaoGothic')\n",
    "plt.subplots_adjust(right=0.75)\n",
    "\n",
    "plt.savefig('TRMM-PR_water.png')\n",
    "plt.show()\n",
    "plt.close('all')"
   ]
  },
  {
   "cell_type": "code",
   "execution_count": null,
   "metadata": {},
   "outputs": [],
   "source": [
    "size_parameter = 1.78-0.0185j\n",
    "wave_length = 2.17e-02\n",
    "\n",
    "x = np.pi * d * 1.0e-03 / wave_length\n",
    "a = np.zeros(num)\n",
    "b = np.zeros(num)\n",
    "c = np.zeros(num)\n",
    "\n",
    "for i in range(num) :\n",
    "    qext, qsca, qback, g = mie_scalar(size_parameter, x[i])\n",
    "    a[i]=qext\n",
    "    b[i]=qsca\n",
    "    c[i]=qback"
   ]
  },
  {
   "cell_type": "code",
   "execution_count": null,
   "metadata": {},
   "outputs": [],
   "source": [
    "diff = c - (a - b)\n",
    "diff_sign = np.where(diff >= 0, 1, 0) # 0以上なら1，負なら0\n",
    "d_sign = diff_sign[1:] - diff_sign[0:-1]\n",
    "d_1 = d[0:-1]\n",
    "sign_change = np.where((np.abs(d_sign) == 1) & (d_1 <= 10.))\n",
    "cross_point_x = d_1[sign_change]\n",
    "print(cross_point_x)"
   ]
  },
  {
   "cell_type": "code",
   "execution_count": null,
   "metadata": {},
   "outputs": [],
   "source": [
    "fonts = {'family' : 'Times New Roman', 'size' : 30} \n",
    "plt.rc('font', **fonts)\n",
    "plt.rcParams['mathtext.fontset'] = 'stix'\n",
    "fig = plt.figure(figsize=(10, 10))\n",
    "\n",
    "\n",
    "plt.plot(d, a, color='black', ls='solid')\n",
    "plt.plot(d, b, color='black', ls='dashdot')\n",
    "plt.plot(d, c, color='black', ls='dashed')\n",
    "plt.plot(d, a-b, color='black', dashes=(6, 1, 1, 1, 1, 1))\n",
    "\n",
    "plt.xscale('log')\n",
    "plt.xlim([1.0e-01, 1.0e01])\n",
    "plt.ylim([0, 3.9])\n",
    "\n",
    "plt.xlabel(\"Diameter (mm)\")\n",
    "plt.ylabel('Efficiency')\n",
    "plt.legend(['Q$_t$', 'Q$_s$', 'Q$_b$', 'Q$_a$'], bbox_to_anchor=(1., 1.,), loc='upper left')\n",
    "plt.title('TRMM/PR(周波数13.8GHz) 氷(0℃)', family='TakaoGothic')\n",
    "plt.subplots_adjust(right=0.75)\n",
    "\n",
    "plt.savefig('TRMM-PR_ice.png')\n",
    "plt.show()\n",
    "plt.close('all')"
   ]
  },
  {
   "cell_type": "code",
   "execution_count": null,
   "metadata": {},
   "outputs": [],
   "source": [
    "size_parameter = 4.61-2.64j\n",
    "wave_length = 3.0e08 / 35.5e09\n",
    "\n",
    "x = np.pi * d * 1.0e-03 / wave_length\n",
    "a = np.zeros(num)\n",
    "b = np.zeros(num)\n",
    "c = np.zeros(num)\n",
    "\n",
    "for i in range(num) :\n",
    "    qext, qsca, qback, g = mie_scalar(size_parameter, x[i])\n",
    "    a[i]=qext\n",
    "    b[i]=qsca\n",
    "    c[i]=qback"
   ]
  },
  {
   "cell_type": "code",
   "execution_count": null,
   "metadata": {},
   "outputs": [],
   "source": [
    "diff = c - (a - b)\n",
    "diff_sign = np.where(diff >= 0, 1, 0) # 0以上なら1，負なら0\n",
    "d_sign = diff_sign[1:] - diff_sign[0:-1]\n",
    "d_1 = d[0:-1]\n",
    "sign_change = np.where((np.abs(d_sign) == 1) & (d_1 <= 10.))\n",
    "cross_point_x = d_1[sign_change]\n",
    "print(cross_point_x)"
   ]
  },
  {
   "cell_type": "code",
   "execution_count": null,
   "metadata": {},
   "outputs": [],
   "source": [
    "fonts = {'family' : 'Times New Roman', 'size' : 30} \n",
    "plt.rc('font', **fonts)\n",
    "plt.rcParams['mathtext.fontset'] = 'stix'\n",
    "fig = plt.figure(figsize=(10, 10))\n",
    "\n",
    "\n",
    "plt.plot(d, a, color='black', ls='solid')\n",
    "plt.plot(d, b, color='black', ls='dashdot')\n",
    "plt.plot(d, c, color='black', ls='dashed')\n",
    "plt.plot(d, a-b, color='black', dashes=(6, 1, 1, 1, 1, 1))\n",
    "\n",
    "plt.xscale('log')\n",
    "plt.xlim([1.0e-01, 1.0e01])\n",
    "plt.ylim([0, 3.9])\n",
    "\n",
    "plt.xlabel(\"Diameter (mm)\")\n",
    "plt.ylabel('Efficiency')\n",
    "plt.legend(['Q$_t$', 'Q$_s$', 'Q$_b$', 'Q$_a$'], bbox_to_anchor=(1., 1.,), loc='upper left')\n",
    "plt.title('GPM/KaPR(周波数35.5GHz) 水(10℃)', family='TakaoGothic')\n",
    "plt.subplots_adjust(right=0.75)\n",
    "\n",
    "plt.savefig('GPM-KaPR_water.png')\n",
    "plt.show()\n",
    "plt.close('all')"
   ]
  },
  {
   "cell_type": "code",
   "execution_count": null,
   "metadata": {},
   "outputs": [],
   "source": [
    "size_parameter = 1.78-0.00943j\n",
    "wave_length = 3.0e08 / 35.5e09\n",
    "\n",
    "x = np.pi * d * 1.0e-03 / wave_length\n",
    "a = np.zeros(num)\n",
    "b = np.zeros(num)\n",
    "c = np.zeros(num)\n",
    "\n",
    "for i in range(num) :\n",
    "    qext, qsca, qback, g = mie_scalar(size_parameter, x[i])\n",
    "    a[i]=qext\n",
    "    b[i]=qsca\n",
    "    c[i]=qback"
   ]
  },
  {
   "cell_type": "code",
   "execution_count": null,
   "metadata": {},
   "outputs": [],
   "source": [
    "diff = c - (a - b)\n",
    "diff_sign = np.where(diff >= 0, 1, 0) # 0以上なら1，負なら0\n",
    "d_sign = diff_sign[1:] - diff_sign[0:-1]\n",
    "d_1 = d[0:-1]\n",
    "sign_change = np.where((np.abs(d_sign) == 1) & (d_1 <= 10.))\n",
    "cross_point_x = d_1[sign_change]\n",
    "print(cross_point_x)"
   ]
  },
  {
   "cell_type": "code",
   "execution_count": null,
   "metadata": {},
   "outputs": [],
   "source": [
    "fonts = {'family' : 'Times New Roman', 'size' : 30} \n",
    "plt.rc('font', **fonts)\n",
    "plt.rcParams['mathtext.fontset'] = 'stix'\n",
    "fig = plt.figure(figsize=(10, 10))\n",
    "\n",
    "\n",
    "plt.plot(d, a, color='black', ls='solid')\n",
    "plt.plot(d, b, color='black', ls='dashdot')\n",
    "plt.plot(d, c, color='black', ls='dashed')\n",
    "plt.plot(d, a-b, color='black', dashes=(6, 1, 1, 1, 1, 1))\n",
    "\n",
    "plt.xscale('log')\n",
    "plt.xlim([1.0e-01, 1.0e01])\n",
    "plt.ylim([0, 7.9])\n",
    "\n",
    "plt.xlabel(\"Diameter (mm)\")\n",
    "plt.ylabel('Efficiency')\n",
    "plt.legend(['Q$_t$', 'Q$_s$', 'Q$_b$', 'Q$_a$'], bbox_to_anchor=(1., 1.,), loc='upper left')\n",
    "plt.title('GPM/KaPR(周波数35.5GHz) 氷(0℃)', family='TakaoGothic')\n",
    "plt.subplots_adjust(right=0.75)\n",
    "\n",
    "plt.savefig('GPM-KaPR_ice.png')\n",
    "plt.show()\n",
    "plt.close('all')"
   ]
  },
  {
   "cell_type": "code",
   "execution_count": null,
   "metadata": {},
   "outputs": [],
   "source": [
    "size_parameter = 6.93-2.78j\n",
    "wave_length = 2.17e-02\n",
    "\n",
    "x = np.pi * d * 1.0e-03 / wave_length\n",
    "b1 = np.zeros(num)\n",
    "\n",
    "for i in range(num) :\n",
    "    qext, qsca, qback, g = mie_scalar(size_parameter, x[i])\n",
    "    b1[i]=qback\n",
    "\n",
    "size_parameter = 4.61-2.64j\n",
    "wave_length = 3.0e08 / 35.5e09\n",
    "\n",
    "x = np.pi * d * 1.0e-03 / wave_length\n",
    "b2 = np.zeros(num)\n",
    "\n",
    "for i in range(num) :\n",
    "    qext, qsca, qback, g = mie_scalar(size_parameter, x[i])\n",
    "    b2[i]=qback"
   ]
  },
  {
   "cell_type": "code",
   "execution_count": null,
   "metadata": {},
   "outputs": [],
   "source": [
    "fonts = {'family' : 'Times New Roman', 'size' : 30} \n",
    "plt.rc('font', **fonts)\n",
    "plt.rcParams['mathtext.fontset'] = 'stix'\n",
    "fig = plt.figure(figsize=(10, 10))\n",
    "\n",
    "\n",
    "plt.plot(d, b1)\n",
    "plt.plot(d, b2)\n",
    "\n",
    "plt.xscale('log')\n",
    "plt.xlim([1.0e-01, 1.0e01])\n",
    "plt.ylim([0, 3.9])\n",
    "\n",
    "plt.xlabel(\"Diameter (mm)\")\n",
    "plt.ylabel('Efficiency')\n",
    "plt.legend(['TRMM/PR', 'GPM/KaPR'], loc='upper left')\n",
    "plt.title('後方散乱効率（水）', family='TakaoGothic')\n",
    "\n",
    "plt.savefig('Back_water.png')\n",
    "plt.show()\n",
    "plt.close('all')"
   ]
  },
  {
   "cell_type": "code",
   "execution_count": null,
   "metadata": {},
   "outputs": [],
   "source": [
    "size_parameter = 1.78-0.0185j\n",
    "wave_length = 2.17e-02\n",
    "\n",
    "x = np.pi * d * 1.0e-03 / wave_length\n",
    "b1 = np.zeros(num)\n",
    "\n",
    "for i in range(num) :\n",
    "    qext, qsca, qback, g = mie_scalar(size_parameter, x[i])\n",
    "    b1[i]=qback\n",
    "\n",
    "size_parameter = 1.78-0.00943j\n",
    "wave_length = 3.0e08 / 35.5e09\n",
    "\n",
    "x = np.pi * d * 1.0e-03 / wave_length\n",
    "b2 = np.zeros(num)\n",
    "\n",
    "for i in range(num) :\n",
    "    qext, qsca, qback, g = mie_scalar(size_parameter, x[i])\n",
    "    b2[i]=qback"
   ]
  },
  {
   "cell_type": "code",
   "execution_count": null,
   "metadata": {},
   "outputs": [],
   "source": [
    "fonts = {'family' : 'Times New Roman', 'size' : 30} \n",
    "plt.rc('font', **fonts)\n",
    "plt.rcParams['mathtext.fontset'] = 'stix'\n",
    "fig = plt.figure(figsize=(10, 10))\n",
    "\n",
    "\n",
    "plt.plot(d, b1)\n",
    "plt.plot(d, b2)\n",
    "\n",
    "plt.xscale('log')\n",
    "plt.xlim([1.0e-01, 1.0e01])\n",
    "plt.ylim([0, 8.9])\n",
    "\n",
    "plt.xlabel(\"Diameter (mm)\")\n",
    "plt.ylabel('Efficiency')\n",
    "plt.legend(['TRMM/PR', 'GPM/KaPR'], loc='upper left')\n",
    "plt.title('後方散乱効率（氷）', family='TakaoGothic')\n",
    "\n",
    "plt.savefig('Back_ice.png')\n",
    "plt.show()\n",
    "plt.close('all')"
   ]
  }
 ],
 "metadata": {
  "kernelspec": {
   "display_name": "Python 3",
   "language": "python",
   "name": "python3"
  },
  "language_info": {
   "codemirror_mode": {
    "name": "ipython",
    "version": 3
   },
   "file_extension": ".py",
   "mimetype": "text/x-python",
   "name": "python",
   "nbconvert_exporter": "python",
   "pygments_lexer": "ipython3",
   "version": "3.7.3"
  }
 },
 "nbformat": 4,
 "nbformat_minor": 2
}
