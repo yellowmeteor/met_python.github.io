{
 "cells": [
  {
   "cell_type": "markdown",
   "metadata": {},
   "source": [
    "# 全国合成レーダーの降水強度を描画する"
   ]
  },
  {
   "cell_type": "markdown",
   "metadata": {},
   "source": [
    "## 全国合成レーダーのファイルのダウンロード\n",
    "\n"
   ]
  },
  {
   "cell_type": "code",
   "execution_count": null,
   "metadata": {},
   "outputs": [],
   "source": [
    "# 開始時刻・終了時刻（日本時刻）\n",
    "sy, sm, sd, sh = 2019, 3, 30, 16\n",
    "ey, em, ed, eh = 2019, 3, 30, 18"
   ]
  },
  {
   "cell_type": "markdown",
   "metadata": {},
   "source": [
    "## ダウンロードのCookie処理\n",
    "\n"
   ]
  },
  {
   "cell_type": "code",
   "execution_count": null,
   "metadata": {},
   "outputs": [],
   "source": [
    "# Libraries\n",
    "from http.cookiejar import MozillaCookieJar\n",
    "from urllib.request import build_opener, HTTPCookieProcessor\n",
    "from datetime import datetime, timedelta\n",
    "from os import path, makedirs\n",
    "\n",
    "\n",
    "# Cookie処理\n",
    "cj = MozillaCookieJar()\n",
    "opener = build_opener(HTTPCookieProcessor(cj))\n",
    "\n",
    "\n",
    "# ダウンロードのwhileループ\n",
    "time = datetime(sy, sm, sd, sh)\n",
    "endt = datetime(ey, em, ed, eh)\n",
    "dt = timedelta(minutes=10) # 全国合成レーダーのファイルは10分間隔\n",
    "\n",
    "while time <= endt:\n",
    "    "
   ]
  },
  {
   "cell_type": "code",
   "execution_count": null,
   "metadata": {},
   "outputs": [],
   "source": [
    "# Libraries\n",
    "from http.cookiejar import MozillaCookieJar\n",
    "from urllib.request import build_opener, HTTPCookieProcessor\n",
    "from copy import copy as cp\n",
    "from datetime import datetime, timedelta\n",
    "from matplotlib import pyplot as plt\n",
    "from matplotlib.colors import ListedColormap\n",
    "from mpl_toolkits.basemap import Basemap\n",
    "from IPython.display import clear_output\n",
    "from subprocess import run as sub_run\n",
    "import numpy as np"
   ]
  }
 ],
 "metadata": {
  "kernelspec": {
   "display_name": "Python 3",
   "language": "python",
   "name": "python3"
  },
  "language_info": {
   "codemirror_mode": {
    "name": "ipython",
    "version": 3
   },
   "file_extension": ".py",
   "mimetype": "text/x-python",
   "name": "python",
   "nbconvert_exporter": "python",
   "pygments_lexer": "ipython3",
   "version": "3.6.5"
  }
 },
 "nbformat": 4,
 "nbformat_minor": 2
}
